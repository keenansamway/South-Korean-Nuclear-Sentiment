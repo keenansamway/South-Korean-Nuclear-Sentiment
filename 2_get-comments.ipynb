{
 "cells": [
  {
   "attachments": {},
   "cell_type": "markdown",
   "metadata": {},
   "source": [
    "## YouTube API Info\n",
    "Costs:\n",
    "- Search: 100 credits per request (1-50 videos)\n",
    "- Video Details: 1 credit per request (1-50 videos)\n",
    "- Comment Threads: 1 credit per request (1-100 comment threads)\n",
    "\n",
    "Quota: 10,000 credits per day\n",
    "- Search: max 5,000 videos per day\n",
    "- Video Details: max 500,000 videos per day\n",
    "- Comment Threads: max 1,000,000 comment threads per day"
   ]
  },
  {
   "cell_type": "code",
   "execution_count": 2,
   "metadata": {},
   "outputs": [],
   "source": [
    "%load_ext autoreload\n",
    "%autoreload 2\n",
    "\n",
    "import os\n",
    "import pandas as pd\n",
    "import matplotlib.pyplot as plt\n",
    "from datetime import datetime\n",
    "from pathlib import Path\n",
    "from dotenv import load_dotenv \n",
    "\n",
    "from youtube_helper import YouTubeHelper"
   ]
  },
  {
   "cell_type": "code",
   "execution_count": 3,
   "metadata": {},
   "outputs": [],
   "source": [
    "DATA_DIR = Path.cwd() / 'content'\n",
    "COMMENTS_DIR = DATA_DIR / 'video_comments'\n",
    "SEARCH_DIR = DATA_DIR / 'video_search'"
   ]
  },
  {
   "cell_type": "code",
   "execution_count": 4,
   "metadata": {},
   "outputs": [],
   "source": [
    "yt = YouTubeHelper()"
   ]
  },
  {
   "cell_type": "code",
   "execution_count": 4,
   "metadata": {},
   "outputs": [],
   "source": [
    "videos = pd.read_csv(DATA_DIR / 'video_details_20230501-0122.csv')"
   ]
  },
  {
   "cell_type": "code",
   "execution_count": 5,
   "metadata": {},
   "outputs": [
    {
     "data": {
      "text/plain": [
       "1700"
      ]
     },
     "execution_count": 5,
     "metadata": {},
     "output_type": "execute_result"
    }
   ],
   "source": [
    "video_ids = videos['video_id'].tolist()\n",
    "len(video_ids)"
   ]
  },
  {
   "cell_type": "code",
   "execution_count": 6,
   "metadata": {},
   "outputs": [
    {
     "name": "stderr",
     "output_type": "stream",
     "text": [
      "Downloading comments... : 100%|██████████| 1700/1700 [01:47<00:00, 15.82it/s]\n"
     ]
    }
   ],
   "source": [
    "yt.download_comments(video_ids, COMMENTS_DIR)"
   ]
  },
  {
   "cell_type": "code",
   "execution_count": 5,
   "metadata": {},
   "outputs": [
    {
     "data": {
      "text/plain": [
       "301488"
      ]
     },
     "execution_count": 5,
     "metadata": {},
     "output_type": "execute_result"
    }
   ],
   "source": [
    "comments_df = yt.load_comments(comments_dir=COMMENTS_DIR)\n",
    "len(comments_df)"
   ]
  },
  {
   "cell_type": "code",
   "execution_count": 6,
   "metadata": {},
   "outputs": [],
   "source": [
    "comments_df.to_csv(DATA_DIR / 'comments_20230501-0122.csv', index=False)"
   ]
  },
  {
   "cell_type": "code",
   "execution_count": 8,
   "metadata": {},
   "outputs": [
    {
     "data": {
      "text/html": [
       "<div>\n",
       "<style scoped>\n",
       "    .dataframe tbody tr th:only-of-type {\n",
       "        vertical-align: middle;\n",
       "    }\n",
       "\n",
       "    .dataframe tbody tr th {\n",
       "        vertical-align: top;\n",
       "    }\n",
       "\n",
       "    .dataframe thead th {\n",
       "        text-align: right;\n",
       "    }\n",
       "</style>\n",
       "<table border=\"1\" class=\"dataframe\">\n",
       "  <thead>\n",
       "    <tr style=\"text-align: right;\">\n",
       "      <th></th>\n",
       "      <th>published_at</th>\n",
       "      <th>updated_at</th>\n",
       "      <th>video_id</th>\n",
       "      <th>comment_id</th>\n",
       "      <th>parent_id</th>\n",
       "      <th>is_top_level_comment</th>\n",
       "      <th>comment_text</th>\n",
       "      <th>author_display_name</th>\n",
       "      <th>author_channel_id</th>\n",
       "      <th>author_profile_image_url</th>\n",
       "      <th>author_channel_url</th>\n",
       "      <th>like_count</th>\n",
       "      <th>etag</th>\n",
       "    </tr>\n",
       "  </thead>\n",
       "  <tbody>\n",
       "    <tr>\n",
       "      <th>0</th>\n",
       "      <td>2022-01-16T20:01:41Z</td>\n",
       "      <td>2022-01-16T20:01:41Z</td>\n",
       "      <td>aqtEB3rhK1Y</td>\n",
       "      <td>UgwctwS5s8vaEL2yrBh4AaABAg</td>\n",
       "      <td>None</td>\n",
       "      <td>True</td>\n",
       "      <td>기생충은 영화그 자체로 수상하죠. 아젠다를 전달했으니..우리나라문화에 ‘그들이’개입...</td>\n",
       "      <td>Jihye Kim</td>\n",
       "      <td>UC5ZPN7UxrY93fsncafN4oqQ</td>\n",
       "      <td>https://yt3.ggpht.com/ytc/AGIKgqMQlvUMZ9FkLcEh...</td>\n",
       "      <td>http://www.youtube.com/channel/UC5ZPN7UxrY93fs...</td>\n",
       "      <td>2</td>\n",
       "      <td>3i_VKQb9rwjxFEQpKENN_Up6EDI</td>\n",
       "    </tr>\n",
       "    <tr>\n",
       "      <th>1</th>\n",
       "      <td>2021-02-04T11:45:47Z</td>\n",
       "      <td>2021-02-04T11:45:47Z</td>\n",
       "      <td>aqtEB3rhK1Y</td>\n",
       "      <td>UgzZDhPf4zLRZOBz4oZ4AaABAg</td>\n",
       "      <td>None</td>\n",
       "      <td>True</td>\n",
       "      <td>그래도  트럼프가  좋다</td>\n",
       "      <td>Emerson C</td>\n",
       "      <td>UCLNWiRA8lvQMWcEaBSyCYPw</td>\n",
       "      <td>https://yt3.ggpht.com/ytc/AGIKgqOMr9TuaRcDuu6l...</td>\n",
       "      <td>http://www.youtube.com/channel/UCLNWiRA8lvQMWc...</td>\n",
       "      <td>0</td>\n",
       "      <td>Utc1STbvLXw2-TEn3vnCUm1Qfmk</td>\n",
       "    </tr>\n",
       "    <tr>\n",
       "      <th>2</th>\n",
       "      <td>2020-07-07T19:28:45Z</td>\n",
       "      <td>2020-07-07T19:28:45Z</td>\n",
       "      <td>aqtEB3rhK1Y</td>\n",
       "      <td>UgxXZp98VmDkWDIjbjZ4AaABAg</td>\n",
       "      <td>None</td>\n",
       "      <td>True</td>\n",
       "      <td>일루미나티싫어하는트럼프니깐ㅊ이해합시다</td>\n",
       "      <td>또잉</td>\n",
       "      <td>UCHA5_wvBWnwWZfZgK-BOc4A</td>\n",
       "      <td>https://yt3.ggpht.com/ytc/AGIKgqNDO-rNtCBdP5IQ...</td>\n",
       "      <td>http://www.youtube.com/channel/UCHA5_wvBWnwWZf...</td>\n",
       "      <td>0</td>\n",
       "      <td>jkpFDRV5EBuIJVs6VuaSrXmOOAY</td>\n",
       "    </tr>\n",
       "    <tr>\n",
       "      <th>3</th>\n",
       "      <td>2020-06-10T18:49:34Z</td>\n",
       "      <td>2020-06-10T18:49:34Z</td>\n",
       "      <td>aqtEB3rhK1Y</td>\n",
       "      <td>Ugzt2YteoWkroaecwel4AaABAg</td>\n",
       "      <td>None</td>\n",
       "      <td>True</td>\n",
       "      <td>트럼프의 딸 아방카는 대학교\\n축사하고  싶어서 설레발  치다가\\n대학생들한테서  ...</td>\n",
       "      <td>JH Shin</td>\n",
       "      <td>UCZhgoWKf8IV_KB1Bw1ZqTFQ</td>\n",
       "      <td>https://yt3.ggpht.com/ytc/AGIKgqNf2x5KapSUM8Pk...</td>\n",
       "      <td>http://www.youtube.com/channel/UCZhgoWKf8IV_KB...</td>\n",
       "      <td>0</td>\n",
       "      <td>l_m61I6rvgFD2k9uEI_O-Ai8qc4</td>\n",
       "    </tr>\n",
       "    <tr>\n",
       "      <th>4</th>\n",
       "      <td>2020-06-02T06:30:04Z</td>\n",
       "      <td>2020-06-02T06:30:04Z</td>\n",
       "      <td>aqtEB3rhK1Y</td>\n",
       "      <td>UgxkLvYKkcB3b-Tc1Zt4AaABAg</td>\n",
       "      <td>None</td>\n",
       "      <td>True</td>\n",
       "      <td>자기나라 잘되는거 당연! 한국 망하라고 한거 아닌뎅 !\\n트럼프 홧팅!</td>\n",
       "      <td>crace c</td>\n",
       "      <td>UC__2MLkr-OGVWKI_AonkH0A</td>\n",
       "      <td>https://yt3.ggpht.com/ytc/AGIKgqMqQ2u1tlMgNDAO...</td>\n",
       "      <td>http://www.youtube.com/channel/UC__2MLkr-OGVWK...</td>\n",
       "      <td>0</td>\n",
       "      <td>62OUamrtu3i12nG_KgkJePTAwJ4</td>\n",
       "    </tr>\n",
       "  </tbody>\n",
       "</table>\n",
       "</div>"
      ],
      "text/plain": [
       "           published_at            updated_at     video_id  \\\n",
       "0  2022-01-16T20:01:41Z  2022-01-16T20:01:41Z  aqtEB3rhK1Y   \n",
       "1  2021-02-04T11:45:47Z  2021-02-04T11:45:47Z  aqtEB3rhK1Y   \n",
       "2  2020-07-07T19:28:45Z  2020-07-07T19:28:45Z  aqtEB3rhK1Y   \n",
       "3  2020-06-10T18:49:34Z  2020-06-10T18:49:34Z  aqtEB3rhK1Y   \n",
       "4  2020-06-02T06:30:04Z  2020-06-02T06:30:04Z  aqtEB3rhK1Y   \n",
       "\n",
       "                   comment_id parent_id  is_top_level_comment  \\\n",
       "0  UgwctwS5s8vaEL2yrBh4AaABAg      None                  True   \n",
       "1  UgzZDhPf4zLRZOBz4oZ4AaABAg      None                  True   \n",
       "2  UgxXZp98VmDkWDIjbjZ4AaABAg      None                  True   \n",
       "3  Ugzt2YteoWkroaecwel4AaABAg      None                  True   \n",
       "4  UgxkLvYKkcB3b-Tc1Zt4AaABAg      None                  True   \n",
       "\n",
       "                                        comment_text author_display_name  \\\n",
       "0  기생충은 영화그 자체로 수상하죠. 아젠다를 전달했으니..우리나라문화에 ‘그들이’개입...           Jihye Kim   \n",
       "1                                      그래도  트럼프가  좋다           Emerson C   \n",
       "2                               일루미나티싫어하는트럼프니깐ㅊ이해합시다                  또잉   \n",
       "3  트럼프의 딸 아방카는 대학교\\n축사하고  싶어서 설레발  치다가\\n대학생들한테서  ...             JH Shin   \n",
       "4            자기나라 잘되는거 당연! 한국 망하라고 한거 아닌뎅 !\\n트럼프 홧팅!             crace c   \n",
       "\n",
       "          author_channel_id  \\\n",
       "0  UC5ZPN7UxrY93fsncafN4oqQ   \n",
       "1  UCLNWiRA8lvQMWcEaBSyCYPw   \n",
       "2  UCHA5_wvBWnwWZfZgK-BOc4A   \n",
       "3  UCZhgoWKf8IV_KB1Bw1ZqTFQ   \n",
       "4  UC__2MLkr-OGVWKI_AonkH0A   \n",
       "\n",
       "                            author_profile_image_url  \\\n",
       "0  https://yt3.ggpht.com/ytc/AGIKgqMQlvUMZ9FkLcEh...   \n",
       "1  https://yt3.ggpht.com/ytc/AGIKgqOMr9TuaRcDuu6l...   \n",
       "2  https://yt3.ggpht.com/ytc/AGIKgqNDO-rNtCBdP5IQ...   \n",
       "3  https://yt3.ggpht.com/ytc/AGIKgqNf2x5KapSUM8Pk...   \n",
       "4  https://yt3.ggpht.com/ytc/AGIKgqMqQ2u1tlMgNDAO...   \n",
       "\n",
       "                                  author_channel_url  like_count  \\\n",
       "0  http://www.youtube.com/channel/UC5ZPN7UxrY93fs...           2   \n",
       "1  http://www.youtube.com/channel/UCLNWiRA8lvQMWc...           0   \n",
       "2  http://www.youtube.com/channel/UCHA5_wvBWnwWZf...           0   \n",
       "3  http://www.youtube.com/channel/UCZhgoWKf8IV_KB...           0   \n",
       "4  http://www.youtube.com/channel/UC__2MLkr-OGVWK...           0   \n",
       "\n",
       "                          etag  \n",
       "0  3i_VKQb9rwjxFEQpKENN_Up6EDI  \n",
       "1  Utc1STbvLXw2-TEn3vnCUm1Qfmk  \n",
       "2  jkpFDRV5EBuIJVs6VuaSrXmOOAY  \n",
       "3  l_m61I6rvgFD2k9uEI_O-Ai8qc4  \n",
       "4  62OUamrtu3i12nG_KgkJePTAwJ4  "
      ]
     },
     "execution_count": 8,
     "metadata": {},
     "output_type": "execute_result"
    }
   ],
   "source": [
    "comments_df.head()"
   ]
  }
 ],
 "metadata": {
  "kernelspec": {
   "display_name": "sk-nuclear",
   "language": "python",
   "name": "python3"
  },
  "language_info": {
   "codemirror_mode": {
    "name": "ipython",
    "version": 3
   },
   "file_extension": ".py",
   "mimetype": "text/x-python",
   "name": "python",
   "nbconvert_exporter": "python",
   "pygments_lexer": "ipython3",
   "version": "3.9.16"
  },
  "orig_nbformat": 4
 },
 "nbformat": 4,
 "nbformat_minor": 2
}

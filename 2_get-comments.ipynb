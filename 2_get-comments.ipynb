{
 "cells": [
  {
   "attachments": {},
   "cell_type": "markdown",
   "metadata": {},
   "source": [
    "## YouTube API Info\n",
    "Costs:\n",
    "- Search: 100 credits per request (1-50 videos)\n",
    "- Video Details: 1 credit per request (1-50 videos)\n",
    "- Comment Threads: 1 credit per request (1-100 comment threads)\n",
    "\n",
    "Quota: 10,000 credits per day\n",
    "- Search: max 5,000 videos per day\n",
    "- Video Details: max 500,000 videos per day\n",
    "- Comment Threads: max 1,000,000 comment threads per day"
   ]
  },
  {
   "cell_type": "code",
   "execution_count": 7,
   "metadata": {},
   "outputs": [
    {
     "name": "stdout",
     "output_type": "stream",
     "text": [
      "The autoreload extension is already loaded. To reload it, use:\n",
      "  %reload_ext autoreload\n"
     ]
    }
   ],
   "source": [
    "%load_ext autoreload\n",
    "%autoreload 2\n",
    "\n",
    "import os\n",
    "import pandas as pd\n",
    "import matplotlib.pyplot as plt\n",
    "from datetime import datetime\n",
    "from pathlib import Path\n",
    "from dotenv import load_dotenv \n",
    "\n",
    "from youtube_helper import YouTubeHelper"
   ]
  },
  {
   "cell_type": "code",
   "execution_count": 8,
   "metadata": {},
   "outputs": [],
   "source": [
    "DATA_DIR = Path.cwd() / 'content'\n",
    "COMMENTS_DIR = DATA_DIR / 'video_comments'\n",
    "SEARCH_DIR = DATA_DIR / 'video_search'"
   ]
  },
  {
   "cell_type": "code",
   "execution_count": 4,
   "metadata": {},
   "outputs": [],
   "source": [
    "yt = YouTubeHelper()"
   ]
  },
  {
   "cell_type": "code",
   "execution_count": 9,
   "metadata": {},
   "outputs": [],
   "source": [
    "videos = pd.read_csv(DATA_DIR / 'video_details_full.csv')"
   ]
  },
  {
   "cell_type": "code",
   "execution_count": 11,
   "metadata": {},
   "outputs": [
    {
     "data": {
      "text/plain": [
       "2924"
      ]
     },
     "execution_count": 11,
     "metadata": {},
     "output_type": "execute_result"
    }
   ],
   "source": [
    "video_ids = videos['video_id'].tolist()\n",
    "len(video_ids)"
   ]
  },
  {
   "cell_type": "code",
   "execution_count": 12,
   "metadata": {},
   "outputs": [
    {
     "name": "stderr",
     "output_type": "stream",
     "text": [
      "Downloading comments... : 100%|██████████| 2924/2924 [16:31<00:00,  2.95it/s]  \n"
     ]
    }
   ],
   "source": [
    "yt.download_comments(video_ids, COMMENTS_DIR)"
   ]
  },
  {
   "cell_type": "code",
   "execution_count": 13,
   "metadata": {},
   "outputs": [
    {
     "data": {
      "text/plain": [
       "537535"
      ]
     },
     "execution_count": 13,
     "metadata": {},
     "output_type": "execute_result"
    }
   ],
   "source": [
    "comments_df = yt.load_comments(comments_dir=COMMENTS_DIR)\n",
    "len(comments_df)"
   ]
  },
  {
   "cell_type": "code",
   "execution_count": 14,
   "metadata": {},
   "outputs": [
    {
     "data": {
      "text/html": [
       "<div>\n",
       "<style scoped>\n",
       "    .dataframe tbody tr th:only-of-type {\n",
       "        vertical-align: middle;\n",
       "    }\n",
       "\n",
       "    .dataframe tbody tr th {\n",
       "        vertical-align: top;\n",
       "    }\n",
       "\n",
       "    .dataframe thead th {\n",
       "        text-align: right;\n",
       "    }\n",
       "</style>\n",
       "<table border=\"1\" class=\"dataframe\">\n",
       "  <thead>\n",
       "    <tr style=\"text-align: right;\">\n",
       "      <th></th>\n",
       "      <th>published_at</th>\n",
       "      <th>updated_at</th>\n",
       "      <th>video_id</th>\n",
       "      <th>comment_id</th>\n",
       "      <th>parent_id</th>\n",
       "      <th>is_top_level_comment</th>\n",
       "      <th>comment_text</th>\n",
       "      <th>author_display_name</th>\n",
       "      <th>author_channel_id</th>\n",
       "      <th>author_profile_image_url</th>\n",
       "      <th>author_channel_url</th>\n",
       "      <th>like_count</th>\n",
       "      <th>etag</th>\n",
       "    </tr>\n",
       "  </thead>\n",
       "  <tbody>\n",
       "    <tr>\n",
       "      <th>0</th>\n",
       "      <td>2022-03-11T15:16:58Z</td>\n",
       "      <td>2022-03-11T15:16:58Z</td>\n",
       "      <td>aUrdB_Awn3w</td>\n",
       "      <td>UgwoEwbD29y57EbuTut4AaABAg</td>\n",
       "      <td>None</td>\n",
       "      <td>True</td>\n",
       "      <td>독자개발아니면핵고유 핵우산은 소 용헚 없음</td>\n",
       "      <td>주나라</td>\n",
       "      <td>UCctlWJYESr_1n6uN5iKOvKw</td>\n",
       "      <td>https://yt3.ggpht.com/ytc/AGIKgqMrpphONaFaHwrx...</td>\n",
       "      <td>http://www.youtube.com/channel/UCctlWJYESr_1n6...</td>\n",
       "      <td>0</td>\n",
       "      <td>Z8D0HEnj4Gd9LJfyS0sK03XBlBQ</td>\n",
       "    </tr>\n",
       "    <tr>\n",
       "      <th>1</th>\n",
       "      <td>2022-02-01T13:05:57Z</td>\n",
       "      <td>2022-02-01T13:05:57Z</td>\n",
       "      <td>aUrdB_Awn3w</td>\n",
       "      <td>Ugz2K1TBFIyrfhK6NUB4AaABAg</td>\n",
       "      <td>None</td>\n",
       "      <td>True</td>\n",
       "      <td>강대강으로 치닫는 국제정치속에 결국엔 민족이민족을대적할것이며 나라와나라가대적할것이다...</td>\n",
       "      <td>권장원</td>\n",
       "      <td>UCbRLiLW77uSuV0Hf0faY_zQ</td>\n",
       "      <td>https://yt3.ggpht.com/ytc/AGIKgqPg_NhCpf2DYmTj...</td>\n",
       "      <td>http://www.youtube.com/channel/UCbRLiLW77uSuV0...</td>\n",
       "      <td>0</td>\n",
       "      <td>vQD6h243wxco_vMuVZyyuqN-634</td>\n",
       "    </tr>\n",
       "    <tr>\n",
       "      <th>2</th>\n",
       "      <td>2022-02-01T12:59:02Z</td>\n",
       "      <td>2022-02-01T12:59:02Z</td>\n",
       "      <td>aUrdB_Awn3w</td>\n",
       "      <td>Ugwf_wPhmhyK22irleJ4AaABAg</td>\n",
       "      <td>None</td>\n",
       "      <td>True</td>\n",
       "      <td>미국과한국은 킬체인이라는 군사협정이있다 그속에는 선제타격도포함되여있는것이다 한국이핵...</td>\n",
       "      <td>권장원</td>\n",
       "      <td>UCbRLiLW77uSuV0Hf0faY_zQ</td>\n",
       "      <td>https://yt3.ggpht.com/ytc/AGIKgqPg_NhCpf2DYmTj...</td>\n",
       "      <td>http://www.youtube.com/channel/UCbRLiLW77uSuV0...</td>\n",
       "      <td>0</td>\n",
       "      <td>zNJ8E8d-1hyE3UU9BVx4ivrPh1w</td>\n",
       "    </tr>\n",
       "    <tr>\n",
       "      <th>3</th>\n",
       "      <td>2022-01-30T16:42:25Z</td>\n",
       "      <td>2022-01-30T16:42:25Z</td>\n",
       "      <td>aUrdB_Awn3w</td>\n",
       "      <td>Ugx2pFa6O5aYL2AfhUR4AaABAg</td>\n",
       "      <td>None</td>\n",
       "      <td>True</td>\n",
       "      <td>교수님의 고견을 후보들이 경청하여 정책 토론 시 적극 활용하였으면 좋겠네요.</td>\n",
       "      <td>홍명숙</td>\n",
       "      <td>UCLOa41GlJ8ti1akMptqvxag</td>\n",
       "      <td>https://yt3.ggpht.com/ytc/AGIKgqM6YmEwl6G8WcXW...</td>\n",
       "      <td>http://www.youtube.com/channel/UCLOa41GlJ8ti1a...</td>\n",
       "      <td>0</td>\n",
       "      <td>1giiqAe3zzfZjLb2EXdmn-4HzNM</td>\n",
       "    </tr>\n",
       "    <tr>\n",
       "      <th>4</th>\n",
       "      <td>2022-01-30T09:37:51Z</td>\n",
       "      <td>2022-01-30T09:51:08Z</td>\n",
       "      <td>aUrdB_Awn3w</td>\n",
       "      <td>UgweY7XkWNYF5jjdrR14AaABAg</td>\n",
       "      <td>None</td>\n",
       "      <td>True</td>\n",
       "      <td>한국 독자 핵개발해야 한다 , 미국도 언젠가는 한국을 버릴수도 있다 , 한국에 미군...</td>\n",
       "      <td>HY K</td>\n",
       "      <td>UCQX4IuGLPbFxcQhIcDCgTpg</td>\n",
       "      <td>https://yt3.ggpht.com/ytc/AGIKgqMoCpl6P1PuNW_s...</td>\n",
       "      <td>http://www.youtube.com/channel/UCQX4IuGLPbFxcQ...</td>\n",
       "      <td>1</td>\n",
       "      <td>ZeLCAX3XFCUNloQJwkCk5rNqAUo</td>\n",
       "    </tr>\n",
       "  </tbody>\n",
       "</table>\n",
       "</div>"
      ],
      "text/plain": [
       "           published_at            updated_at     video_id  \\\n",
       "0  2022-03-11T15:16:58Z  2022-03-11T15:16:58Z  aUrdB_Awn3w   \n",
       "1  2022-02-01T13:05:57Z  2022-02-01T13:05:57Z  aUrdB_Awn3w   \n",
       "2  2022-02-01T12:59:02Z  2022-02-01T12:59:02Z  aUrdB_Awn3w   \n",
       "3  2022-01-30T16:42:25Z  2022-01-30T16:42:25Z  aUrdB_Awn3w   \n",
       "4  2022-01-30T09:37:51Z  2022-01-30T09:51:08Z  aUrdB_Awn3w   \n",
       "\n",
       "                   comment_id parent_id  is_top_level_comment  \\\n",
       "0  UgwoEwbD29y57EbuTut4AaABAg      None                  True   \n",
       "1  Ugz2K1TBFIyrfhK6NUB4AaABAg      None                  True   \n",
       "2  Ugwf_wPhmhyK22irleJ4AaABAg      None                  True   \n",
       "3  Ugx2pFa6O5aYL2AfhUR4AaABAg      None                  True   \n",
       "4  UgweY7XkWNYF5jjdrR14AaABAg      None                  True   \n",
       "\n",
       "                                        comment_text author_display_name  \\\n",
       "0                            독자개발아니면핵고유 핵우산은 소 용헚 없음                 주나라   \n",
       "1  강대강으로 치닫는 국제정치속에 결국엔 민족이민족을대적할것이며 나라와나라가대적할것이다...                 권장원   \n",
       "2  미국과한국은 킬체인이라는 군사협정이있다 그속에는 선제타격도포함되여있는것이다 한국이핵...                 권장원   \n",
       "3         교수님의 고견을 후보들이 경청하여 정책 토론 시 적극 활용하였으면 좋겠네요.                 홍명숙   \n",
       "4  한국 독자 핵개발해야 한다 , 미국도 언젠가는 한국을 버릴수도 있다 , 한국에 미군...                HY K   \n",
       "\n",
       "          author_channel_id  \\\n",
       "0  UCctlWJYESr_1n6uN5iKOvKw   \n",
       "1  UCbRLiLW77uSuV0Hf0faY_zQ   \n",
       "2  UCbRLiLW77uSuV0Hf0faY_zQ   \n",
       "3  UCLOa41GlJ8ti1akMptqvxag   \n",
       "4  UCQX4IuGLPbFxcQhIcDCgTpg   \n",
       "\n",
       "                            author_profile_image_url  \\\n",
       "0  https://yt3.ggpht.com/ytc/AGIKgqMrpphONaFaHwrx...   \n",
       "1  https://yt3.ggpht.com/ytc/AGIKgqPg_NhCpf2DYmTj...   \n",
       "2  https://yt3.ggpht.com/ytc/AGIKgqPg_NhCpf2DYmTj...   \n",
       "3  https://yt3.ggpht.com/ytc/AGIKgqM6YmEwl6G8WcXW...   \n",
       "4  https://yt3.ggpht.com/ytc/AGIKgqMoCpl6P1PuNW_s...   \n",
       "\n",
       "                                  author_channel_url  like_count  \\\n",
       "0  http://www.youtube.com/channel/UCctlWJYESr_1n6...           0   \n",
       "1  http://www.youtube.com/channel/UCbRLiLW77uSuV0...           0   \n",
       "2  http://www.youtube.com/channel/UCbRLiLW77uSuV0...           0   \n",
       "3  http://www.youtube.com/channel/UCLOa41GlJ8ti1a...           0   \n",
       "4  http://www.youtube.com/channel/UCQX4IuGLPbFxcQ...           1   \n",
       "\n",
       "                          etag  \n",
       "0  Z8D0HEnj4Gd9LJfyS0sK03XBlBQ  \n",
       "1  vQD6h243wxco_vMuVZyyuqN-634  \n",
       "2  zNJ8E8d-1hyE3UU9BVx4ivrPh1w  \n",
       "3  1giiqAe3zzfZjLb2EXdmn-4HzNM  \n",
       "4  ZeLCAX3XFCUNloQJwkCk5rNqAUo  "
      ]
     },
     "execution_count": 14,
     "metadata": {},
     "output_type": "execute_result"
    }
   ],
   "source": [
    "comments_df.head()"
   ]
  },
  {
   "cell_type": "code",
   "execution_count": 15,
   "metadata": {},
   "outputs": [],
   "source": [
    "comments_df.to_csv(DATA_DIR / 'comments_full.csv', index=False)"
   ]
  }
 ],
 "metadata": {
  "kernelspec": {
   "display_name": "sk-nuclear",
   "language": "python",
   "name": "python3"
  },
  "language_info": {
   "codemirror_mode": {
    "name": "ipython",
    "version": 3
   },
   "file_extension": ".py",
   "mimetype": "text/x-python",
   "name": "python",
   "nbconvert_exporter": "python",
   "pygments_lexer": "ipython3",
   "version": "3.9.16"
  },
  "orig_nbformat": 4
 },
 "nbformat": 4,
 "nbformat_minor": 2
}

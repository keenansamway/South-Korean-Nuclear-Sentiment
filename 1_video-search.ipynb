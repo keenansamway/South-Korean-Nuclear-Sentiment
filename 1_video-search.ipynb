{
 "cells": [
  {
   "attachments": {},
   "cell_type": "markdown",
   "metadata": {},
   "source": [
    "## YouTube API Info\n",
    "Costs:\n",
    "- Search: 100 credits per request (1-50 videos)\n",
    "- Video Details: 1 credit per request (1-50 videos)\n",
    "- Comment Threads: 1 credit per request (1-100 comment threads)\n",
    "\n",
    "Quota: 10,000 credits per day\n",
    "- Search: max 5,000 videos per day\n",
    "- Video Details: max 500,000 videos per day\n",
    "- Comment Threads: max 1,000,000 comment threads per day"
   ]
  },
  {
   "cell_type": "code",
   "execution_count": 7,
   "metadata": {},
   "outputs": [
    {
     "name": "stdout",
     "output_type": "stream",
     "text": [
      "The autoreload extension is already loaded. To reload it, use:\n",
      "  %reload_ext autoreload\n"
     ]
    }
   ],
   "source": [
    "%load_ext autoreload\n",
    "%autoreload 2\n",
    "\n",
    "import os\n",
    "import pandas as pd\n",
    "import matplotlib.pyplot as plt\n",
    "from datetime import datetime\n",
    "from pathlib import Path\n",
    "from dotenv import load_dotenv\n",
    "from tqdm import tqdm\n",
    "from datetime import datetime\n",
    "\n",
    "from youtube_helper import YouTubeHelper"
   ]
  },
  {
   "cell_type": "code",
   "execution_count": 15,
   "metadata": {},
   "outputs": [],
   "source": [
    "DATA_DIR = Path.cwd() / 'content'\n",
    "COMMENTS_DIR = DATA_DIR / 'video_comments'\n",
    "SEARCH_DIR = DATA_DIR / 'video_search'"
   ]
  },
  {
   "cell_type": "code",
   "execution_count": 9,
   "metadata": {},
   "outputs": [],
   "source": [
    "yt = YouTubeHelper()"
   ]
  },
  {
   "attachments": {},
   "cell_type": "markdown",
   "metadata": {},
   "source": [
    "### Example"
   ]
  },
  {
   "cell_type": "code",
   "execution_count": null,
   "metadata": {},
   "outputs": [],
   "source": [
    "start_date_ex = pd.to_datetime('2019-01-01')\n",
    "end_date_ex = start_date_ex + pd.DateOffset(months=1)\n",
    "\n",
    "print(start_date_ex, \"-\", end_date_ex)\n",
    "\n",
    "results_ex = yt.search(\n",
    "    \"한국 핵무장\",\n",
    "    start_date=start_date_ex,\n",
    "    end_date=end_date_ex,\n",
    "    order_by=\"rating\",\n",
    "    results_to_get=50,\n",
    ")\n",
    "\n",
    "results_ex['query'] = '한국 핵무장'"
   ]
  },
  {
   "cell_type": "code",
   "execution_count": null,
   "metadata": {},
   "outputs": [],
   "source": [
    "print(len(results_ex))\n",
    "results_ex"
   ]
  },
  {
   "attachments": {},
   "cell_type": "markdown",
   "metadata": {},
   "source": [
    "### Pipeline"
   ]
  },
  {
   "cell_type": "code",
   "execution_count": 248,
   "metadata": {},
   "outputs": [
    {
     "name": "stderr",
     "output_type": "stream",
     "text": [
      "Searching for '한국 핵무장' from 2015-01-01 00:00:00 to 2015-03-31 23:59:59: 100%|██████████| 33/33 [00:24<00:00,  1.33it/s]\n"
     ]
    }
   ],
   "source": [
    "results = yt.rolling_search(\n",
    "    query=\"한국 핵무장\",\n",
    "    start_date=pd.to_datetime('2023-04-01'),\n",
    "    window_size=3, # in months\n",
    "    num_windows=40, # num_windows * window_size = total months\n",
    "    results_per_window=100,\n",
    "    direction='backward',\n",
    "    # test_dates=True,\n",
    ")"
   ]
  },
  {
   "cell_type": "code",
   "execution_count": 268,
   "metadata": {},
   "outputs": [],
   "source": [
    "results.to_csv(SEARCH_DIR / f\"search_results_{datetime.now().strftime('%Y%m%d-%H%M')}.csv\", index=False)"
   ]
  },
  {
   "cell_type": "code",
   "execution_count": null,
   "metadata": {},
   "outputs": [],
   "source": [
    "# search_results_20230501-0122.csv"
   ]
  },
  {
   "cell_type": "code",
   "execution_count": 5,
   "metadata": {},
   "outputs": [
    {
     "data": {
      "text/html": [
       "<div>\n",
       "<style scoped>\n",
       "    .dataframe tbody tr th:only-of-type {\n",
       "        vertical-align: middle;\n",
       "    }\n",
       "\n",
       "    .dataframe tbody tr th {\n",
       "        vertical-align: top;\n",
       "    }\n",
       "\n",
       "    .dataframe thead th {\n",
       "        text-align: right;\n",
       "    }\n",
       "</style>\n",
       "<table border=\"1\" class=\"dataframe\">\n",
       "  <thead>\n",
       "    <tr style=\"text-align: right;\">\n",
       "      <th></th>\n",
       "      <th>published_at</th>\n",
       "      <th>video_id</th>\n",
       "      <th>video_title</th>\n",
       "      <th>video_description</th>\n",
       "      <th>channel_id</th>\n",
       "      <th>channel_title</th>\n",
       "      <th>etag</th>\n",
       "      <th>window_start</th>\n",
       "      <th>window_end</th>\n",
       "      <th>query</th>\n",
       "      <th>collection_date</th>\n",
       "    </tr>\n",
       "  </thead>\n",
       "  <tbody>\n",
       "    <tr>\n",
       "      <th>0</th>\n",
       "      <td>2023-02-02T05:46:30Z</td>\n",
       "      <td>fYX_Mru5tNw</td>\n",
       "      <td>[자막뉴스] &amp;quot;한국 핵무장, 전 세계 소프트파워 파괴&amp;quot; 강력한 경...</td>\n",
       "      <td>미국의 지그프리드 해커 박사는 한국의 핵무장을 주제로 한 세미나에서 한국의 과학기술...</td>\n",
       "      <td>UChlgI3UHCOnwUGzWzbJ3H5w</td>\n",
       "      <td>YTN</td>\n",
       "      <td>bncw-sVYhft26xeyu4AM6BZbvxo</td>\n",
       "      <td>2023-01-01</td>\n",
       "      <td>2023-03-31 23:59:59</td>\n",
       "      <td>한국 핵무장</td>\n",
       "      <td>2023-05-01 01:06:25</td>\n",
       "    </tr>\n",
       "    <tr>\n",
       "      <th>1</th>\n",
       "      <td>2023-02-13T05:10:50Z</td>\n",
       "      <td>9fS-DF4xn5k</td>\n",
       "      <td>과거 프랑스 드골의 핵무장 논리 지금 한국에 맞는가...</td>\n",
       "      <td>서울의소리 유튜브 계정은 지난 6월부터 모든 수익 창출이 정지되었습니다. 서울의소리...</td>\n",
       "      <td>UCUxTPRSns--l5BX2537u7Rw</td>\n",
       "      <td>서울의소리 Voice of Seoul</td>\n",
       "      <td>7a58MzdsFnS6RkmmHGossp2oUB8</td>\n",
       "      <td>2023-01-01</td>\n",
       "      <td>2023-03-31 23:59:59</td>\n",
       "      <td>한국 핵무장</td>\n",
       "      <td>2023-05-01 01:06:25</td>\n",
       "    </tr>\n",
       "    <tr>\n",
       "      <th>2</th>\n",
       "      <td>2023-01-28T03:08:32Z</td>\n",
       "      <td>DjX42uSww9I</td>\n",
       "      <td>&amp;#39;한국 핵무장론&amp;#39; 미국의 심층 보도...보고서 내용 공개 / YTN</td>\n",
       "      <td>CNN, 한국 핵무장론 증가 배경 보도 \"핵무장 발언은 국내 지지층 의식한 포퓰리즘...</td>\n",
       "      <td>UChlgI3UHCOnwUGzWzbJ3H5w</td>\n",
       "      <td>YTN</td>\n",
       "      <td>38t-Xm7F2C2D3k8ALgH-Dbl4uos</td>\n",
       "      <td>2023-01-01</td>\n",
       "      <td>2023-03-31 23:59:59</td>\n",
       "      <td>한국 핵무장</td>\n",
       "      <td>2023-05-01 01:06:25</td>\n",
       "    </tr>\n",
       "    <tr>\n",
       "      <th>3</th>\n",
       "      <td>2023-03-25T12:00:07Z</td>\n",
       "      <td>WjUEDHlvlKQ</td>\n",
       "      <td>[워싱턴 톡] 한국 핵무장, 미국 전략적 이익에 부합하나? 예외 인정될까?</td>\n",
       "      <td>북한이 각종 무기 실험으로 한국의 방어망을 무력화하려고 하지만 실전에서 미군 증원과...</td>\n",
       "      <td>UC8d0ZgFEl4AUdyAKGE8O3yg</td>\n",
       "      <td>VOA 한국어</td>\n",
       "      <td>FQP-aN7w_x9tcsR9i2huZzxZSJ8</td>\n",
       "      <td>2023-01-01</td>\n",
       "      <td>2023-03-31 23:59:59</td>\n",
       "      <td>한국 핵무장</td>\n",
       "      <td>2023-05-01 01:06:25</td>\n",
       "    </tr>\n",
       "    <tr>\n",
       "      <th>4</th>\n",
       "      <td>2023-01-04T06:49:15Z</td>\n",
       "      <td>pbst6XB7GVY</td>\n",
       "      <td>[자막뉴스] &amp;quot;한국은 핵 보유국이...&amp;quot; 미국의 강력한 한마디 /...</td>\n",
       "      <td>백악관은 조 바이든 대통령이 한미 핵 공동 연습 계획이 없다고 말한 건 한국이 핵 ...</td>\n",
       "      <td>UChlgI3UHCOnwUGzWzbJ3H5w</td>\n",
       "      <td>YTN</td>\n",
       "      <td>hU8KD_na2w9R33OfLvieuhudVss</td>\n",
       "      <td>2023-01-01</td>\n",
       "      <td>2023-03-31 23:59:59</td>\n",
       "      <td>한국 핵무장</td>\n",
       "      <td>2023-05-01 01:06:25</td>\n",
       "    </tr>\n",
       "  </tbody>\n",
       "</table>\n",
       "</div>"
      ],
      "text/plain": [
       "           published_at     video_id  \\\n",
       "0  2023-02-02T05:46:30Z  fYX_Mru5tNw   \n",
       "1  2023-02-13T05:10:50Z  9fS-DF4xn5k   \n",
       "2  2023-01-28T03:08:32Z  DjX42uSww9I   \n",
       "3  2023-03-25T12:00:07Z  WjUEDHlvlKQ   \n",
       "4  2023-01-04T06:49:15Z  pbst6XB7GVY   \n",
       "\n",
       "                                         video_title  \\\n",
       "0  [자막뉴스] &quot;한국 핵무장, 전 세계 소프트파워 파괴&quot; 강력한 경...   \n",
       "1                    과거 프랑스 드골의 핵무장 논리 지금 한국에 맞는가...   \n",
       "2      &#39;한국 핵무장론&#39; 미국의 심층 보도...보고서 내용 공개 / YTN   \n",
       "3          [워싱턴 톡] 한국 핵무장, 미국 전략적 이익에 부합하나? 예외 인정될까?   \n",
       "4  [자막뉴스] &quot;한국은 핵 보유국이...&quot; 미국의 강력한 한마디 /...   \n",
       "\n",
       "                                   video_description  \\\n",
       "0  미국의 지그프리드 해커 박사는 한국의 핵무장을 주제로 한 세미나에서 한국의 과학기술...   \n",
       "1  서울의소리 유튜브 계정은 지난 6월부터 모든 수익 창출이 정지되었습니다. 서울의소리...   \n",
       "2  CNN, 한국 핵무장론 증가 배경 보도 \"핵무장 발언은 국내 지지층 의식한 포퓰리즘...   \n",
       "3  북한이 각종 무기 실험으로 한국의 방어망을 무력화하려고 하지만 실전에서 미군 증원과...   \n",
       "4  백악관은 조 바이든 대통령이 한미 핵 공동 연습 계획이 없다고 말한 건 한국이 핵 ...   \n",
       "\n",
       "                 channel_id         channel_title  \\\n",
       "0  UChlgI3UHCOnwUGzWzbJ3H5w                   YTN   \n",
       "1  UCUxTPRSns--l5BX2537u7Rw  서울의소리 Voice of Seoul   \n",
       "2  UChlgI3UHCOnwUGzWzbJ3H5w                   YTN   \n",
       "3  UC8d0ZgFEl4AUdyAKGE8O3yg               VOA 한국어   \n",
       "4  UChlgI3UHCOnwUGzWzbJ3H5w                   YTN   \n",
       "\n",
       "                          etag window_start           window_end   query  \\\n",
       "0  bncw-sVYhft26xeyu4AM6BZbvxo   2023-01-01  2023-03-31 23:59:59  한국 핵무장   \n",
       "1  7a58MzdsFnS6RkmmHGossp2oUB8   2023-01-01  2023-03-31 23:59:59  한국 핵무장   \n",
       "2  38t-Xm7F2C2D3k8ALgH-Dbl4uos   2023-01-01  2023-03-31 23:59:59  한국 핵무장   \n",
       "3  FQP-aN7w_x9tcsR9i2huZzxZSJ8   2023-01-01  2023-03-31 23:59:59  한국 핵무장   \n",
       "4  hU8KD_na2w9R33OfLvieuhudVss   2023-01-01  2023-03-31 23:59:59  한국 핵무장   \n",
       "\n",
       "       collection_date  \n",
       "0  2023-05-01 01:06:25  \n",
       "1  2023-05-01 01:06:25  \n",
       "2  2023-05-01 01:06:25  \n",
       "3  2023-05-01 01:06:25  \n",
       "4  2023-05-01 01:06:25  "
      ]
     },
     "execution_count": 5,
     "metadata": {},
     "output_type": "execute_result"
    }
   ],
   "source": [
    "results.head()"
   ]
  },
  {
   "cell_type": "code",
   "execution_count": 4,
   "metadata": {},
   "outputs": [],
   "source": [
    "results = pd.read_csv(SEARCH_DIR / 'search_results_20230501-0122.csv')"
   ]
  },
  {
   "attachments": {},
   "cell_type": "markdown",
   "metadata": {},
   "source": [
    "### Get Details"
   ]
  },
  {
   "cell_type": "code",
   "execution_count": 20,
   "metadata": {},
   "outputs": [
    {
     "data": {
      "text/html": [
       "<div>\n",
       "<style scoped>\n",
       "    .dataframe tbody tr th:only-of-type {\n",
       "        vertical-align: middle;\n",
       "    }\n",
       "\n",
       "    .dataframe tbody tr th {\n",
       "        vertical-align: top;\n",
       "    }\n",
       "\n",
       "    .dataframe thead th {\n",
       "        text-align: right;\n",
       "    }\n",
       "</style>\n",
       "<table border=\"1\" class=\"dataframe\">\n",
       "  <thead>\n",
       "    <tr style=\"text-align: right;\">\n",
       "      <th></th>\n",
       "      <th>published_at</th>\n",
       "      <th>video_id</th>\n",
       "      <th>video_title</th>\n",
       "      <th>video_description</th>\n",
       "      <th>channel_id</th>\n",
       "      <th>channel_title</th>\n",
       "      <th>etag</th>\n",
       "      <th>window_start</th>\n",
       "      <th>window_end</th>\n",
       "      <th>query</th>\n",
       "      <th>collection_date</th>\n",
       "    </tr>\n",
       "  </thead>\n",
       "  <tbody>\n",
       "    <tr>\n",
       "      <th>0</th>\n",
       "      <td>2023-02-02T05:46:30Z</td>\n",
       "      <td>fYX_Mru5tNw</td>\n",
       "      <td>[자막뉴스] &amp;quot;한국 핵무장, 전 세계 소프트파워 파괴&amp;quot; 강력한 경...</td>\n",
       "      <td>미국의 지그프리드 해커 박사는 한국의 핵무장을 주제로 한 세미나에서 한국의 과학기술...</td>\n",
       "      <td>UChlgI3UHCOnwUGzWzbJ3H5w</td>\n",
       "      <td>YTN</td>\n",
       "      <td>bncw-sVYhft26xeyu4AM6BZbvxo</td>\n",
       "      <td>2023-01-01</td>\n",
       "      <td>2023-03-31 23:59:59</td>\n",
       "      <td>한국 핵무장</td>\n",
       "      <td>2023-05-01 01:06:25</td>\n",
       "    </tr>\n",
       "  </tbody>\n",
       "</table>\n",
       "</div>"
      ],
      "text/plain": [
       "           published_at     video_id  \\\n",
       "0  2023-02-02T05:46:30Z  fYX_Mru5tNw   \n",
       "\n",
       "                                         video_title  \\\n",
       "0  [자막뉴스] &quot;한국 핵무장, 전 세계 소프트파워 파괴&quot; 강력한 경...   \n",
       "\n",
       "                                   video_description  \\\n",
       "0  미국의 지그프리드 해커 박사는 한국의 핵무장을 주제로 한 세미나에서 한국의 과학기술...   \n",
       "\n",
       "                 channel_id channel_title                         etag  \\\n",
       "0  UChlgI3UHCOnwUGzWzbJ3H5w           YTN  bncw-sVYhft26xeyu4AM6BZbvxo   \n",
       "\n",
       "  window_start           window_end   query      collection_date  \n",
       "0   2023-01-01  2023-03-31 23:59:59  한국 핵무장  2023-05-01 01:06:25  "
      ]
     },
     "execution_count": 20,
     "metadata": {},
     "output_type": "execute_result"
    }
   ],
   "source": [
    "results.head(1)"
   ]
  },
  {
   "cell_type": "code",
   "execution_count": 10,
   "metadata": {},
   "outputs": [],
   "source": [
    "id_list = results['video_id'].tolist()"
   ]
  },
  {
   "cell_type": "code",
   "execution_count": 11,
   "metadata": {},
   "outputs": [
    {
     "name": "stderr",
     "output_type": "stream",
     "text": [
      "Downloading video details...: 100%|██████████| 1700/1700 [00:10<00:00, 164.58it/s]\n"
     ]
    }
   ],
   "source": [
    "details = yt.video_details(id_list)"
   ]
  },
  {
   "cell_type": "code",
   "execution_count": 13,
   "metadata": {},
   "outputs": [
    {
     "data": {
      "text/plain": [
       "360469"
      ]
     },
     "execution_count": 13,
     "metadata": {},
     "output_type": "execute_result"
    }
   ],
   "source": [
    "# total comment count\n",
    "details['comment_count'].sum()"
   ]
  },
  {
   "cell_type": "code",
   "execution_count": 24,
   "metadata": {},
   "outputs": [],
   "source": [
    "# map window_start, window_end, query, and collection date from results to details\n",
    "details['window_start'] = details['video_id'].map(results.set_index('video_id')['window_start'])\n",
    "details['window_end'] = details['video_id'].map(results.set_index('video_id')['window_end'])\n",
    "details['query'] = details['video_id'].map(results.set_index('video_id')['query'])\n",
    "details['collection_date'] = details['video_id'].map(results.set_index('video_id')['collection_date'])"
   ]
  },
  {
   "cell_type": "code",
   "execution_count": 25,
   "metadata": {},
   "outputs": [
    {
     "data": {
      "text/html": [
       "<div>\n",
       "<style scoped>\n",
       "    .dataframe tbody tr th:only-of-type {\n",
       "        vertical-align: middle;\n",
       "    }\n",
       "\n",
       "    .dataframe tbody tr th {\n",
       "        vertical-align: top;\n",
       "    }\n",
       "\n",
       "    .dataframe thead th {\n",
       "        text-align: right;\n",
       "    }\n",
       "</style>\n",
       "<table border=\"1\" class=\"dataframe\">\n",
       "  <thead>\n",
       "    <tr style=\"text-align: right;\">\n",
       "      <th></th>\n",
       "      <th>published_at</th>\n",
       "      <th>video_id</th>\n",
       "      <th>video_title</th>\n",
       "      <th>video_description</th>\n",
       "      <th>channel_id</th>\n",
       "      <th>channel_title</th>\n",
       "      <th>tags</th>\n",
       "      <th>category_id</th>\n",
       "      <th>duration</th>\n",
       "      <th>view_count</th>\n",
       "      <th>like_count</th>\n",
       "      <th>comment_count</th>\n",
       "      <th>regions_blocked</th>\n",
       "      <th>regions_allowed</th>\n",
       "      <th>content_rating</th>\n",
       "      <th>etag</th>\n",
       "      <th>window_start</th>\n",
       "      <th>window_end</th>\n",
       "      <th>query</th>\n",
       "      <th>collection_date</th>\n",
       "    </tr>\n",
       "  </thead>\n",
       "  <tbody>\n",
       "    <tr>\n",
       "      <th>0</th>\n",
       "      <td>2023-02-02T05:46:30Z</td>\n",
       "      <td>fYX_Mru5tNw</td>\n",
       "      <td>[자막뉴스] \"한국 핵무장, 전 세계 소프트파워 파괴\" 강력한 경고 / YTN</td>\n",
       "      <td>미국의 지그프리드 해커 박사는 한국의 핵무장을 주제로 한 세미나에서 한국의 과학기술...</td>\n",
       "      <td>UChlgI3UHCOnwUGzWzbJ3H5w</td>\n",
       "      <td>YTN</td>\n",
       "      <td>[YTN실시간, YTN]</td>\n",
       "      <td>25</td>\n",
       "      <td>PT2M32S</td>\n",
       "      <td>1911736</td>\n",
       "      <td>11577</td>\n",
       "      <td>10295</td>\n",
       "      <td>NaN</td>\n",
       "      <td>None</td>\n",
       "      <td>None</td>\n",
       "      <td>-Cy8CIs76Ylr0SvilBHAxD4hBsk</td>\n",
       "      <td>2023-01-01</td>\n",
       "      <td>2023-03-31 23:59:59</td>\n",
       "      <td>한국 핵무장</td>\n",
       "      <td>2023-05-01 01:06:25</td>\n",
       "    </tr>\n",
       "  </tbody>\n",
       "</table>\n",
       "</div>"
      ],
      "text/plain": [
       "           published_at     video_id  \\\n",
       "0  2023-02-02T05:46:30Z  fYX_Mru5tNw   \n",
       "\n",
       "                                   video_title  \\\n",
       "0  [자막뉴스] \"한국 핵무장, 전 세계 소프트파워 파괴\" 강력한 경고 / YTN   \n",
       "\n",
       "                                   video_description  \\\n",
       "0  미국의 지그프리드 해커 박사는 한국의 핵무장을 주제로 한 세미나에서 한국의 과학기술...   \n",
       "\n",
       "                 channel_id channel_title           tags  category_id  \\\n",
       "0  UChlgI3UHCOnwUGzWzbJ3H5w           YTN  [YTN실시간, YTN]           25   \n",
       "\n",
       "  duration  view_count  like_count  comment_count regions_blocked  \\\n",
       "0  PT2M32S     1911736       11577          10295             NaN   \n",
       "\n",
       "  regions_allowed content_rating                         etag window_start  \\\n",
       "0            None           None  -Cy8CIs76Ylr0SvilBHAxD4hBsk   2023-01-01   \n",
       "\n",
       "            window_end   query      collection_date  \n",
       "0  2023-03-31 23:59:59  한국 핵무장  2023-05-01 01:06:25  "
      ]
     },
     "execution_count": 25,
     "metadata": {},
     "output_type": "execute_result"
    }
   ],
   "source": [
    "details.head(1)"
   ]
  },
  {
   "cell_type": "code",
   "execution_count": 26,
   "metadata": {},
   "outputs": [],
   "source": [
    "details.to_csv(SEARCH_DIR / 'video_details_20230501-0122.csv', index=False)"
   ]
  },
  {
   "attachments": {},
   "cell_type": "markdown",
   "metadata": {},
   "source": [
    "### EDA"
   ]
  },
  {
   "cell_type": "code",
   "execution_count": 28,
   "metadata": {},
   "outputs": [
    {
     "data": {
      "text/html": [
       "<div>\n",
       "<style scoped>\n",
       "    .dataframe tbody tr th:only-of-type {\n",
       "        vertical-align: middle;\n",
       "    }\n",
       "\n",
       "    .dataframe tbody tr th {\n",
       "        vertical-align: top;\n",
       "    }\n",
       "\n",
       "    .dataframe thead th {\n",
       "        text-align: right;\n",
       "    }\n",
       "</style>\n",
       "<table border=\"1\" class=\"dataframe\">\n",
       "  <thead>\n",
       "    <tr style=\"text-align: right;\">\n",
       "      <th></th>\n",
       "      <th>published_at</th>\n",
       "      <th>video_id</th>\n",
       "      <th>video_title</th>\n",
       "      <th>video_description</th>\n",
       "      <th>channel_id</th>\n",
       "      <th>channel_title</th>\n",
       "      <th>tags</th>\n",
       "      <th>category_id</th>\n",
       "      <th>duration</th>\n",
       "      <th>view_count</th>\n",
       "      <th>like_count</th>\n",
       "      <th>comment_count</th>\n",
       "      <th>regions_blocked</th>\n",
       "      <th>regions_allowed</th>\n",
       "      <th>content_rating</th>\n",
       "      <th>etag</th>\n",
       "      <th>window_start</th>\n",
       "      <th>window_end</th>\n",
       "      <th>query</th>\n",
       "      <th>collection_date</th>\n",
       "    </tr>\n",
       "  </thead>\n",
       "  <tbody>\n",
       "    <tr>\n",
       "      <th>475</th>\n",
       "      <td>2020-10-17T03:00:01Z</td>\n",
       "      <td>KDKjmzSbryM</td>\n",
       "      <td>(ENG)북한이 한국에게 핵을 쏘면 생기는 일?</td>\n",
       "      <td>#미사일 #북한핵 #북한\\n\\n오늘은 미사일 전문가 멋진창창님과 함께\\n\\n북한의 ...</td>\n",
       "      <td>UCoCvTlU0KpNYwnMIgs7MPrA</td>\n",
       "      <td>보다 BODA</td>\n",
       "      <td>[씨랩, CLAB, 소셜, 리액션, Youtube reaction, react, k...</td>\n",
       "      <td>24</td>\n",
       "      <td>PT15M36S</td>\n",
       "      <td>5766047</td>\n",
       "      <td>&lt;NA&gt;</td>\n",
       "      <td>&lt;NA&gt;</td>\n",
       "      <td>NaN</td>\n",
       "      <td>None</td>\n",
       "      <td>None</td>\n",
       "      <td>wGuGJ5miKX67ItJdDXho-PVbpcQ</td>\n",
       "      <td>2020-10-01</td>\n",
       "      <td>2020-12-31 23:59:59</td>\n",
       "      <td>한국 핵무장</td>\n",
       "      <td>2023-05-01 01:06:25</td>\n",
       "    </tr>\n",
       "    <tr>\n",
       "      <th>233</th>\n",
       "      <td>2022-03-02T10:22:28Z</td>\n",
       "      <td>wgSyHiqkZfU</td>\n",
       "      <td>[자막뉴스] \"푸틴은 독재자\"...바이든, 연설 중 한국도 거론 / YTN</td>\n",
       "      <td>지난해 1월 취임 이후 처음으로 국정연설에 나선 바이든 미 대통령.\\n\\n러시아의 ...</td>\n",
       "      <td>UChlgI3UHCOnwUGzWzbJ3H5w</td>\n",
       "      <td>YTN</td>\n",
       "      <td>[source:영상, type:디지털, genre:국제, format:기타, ser...</td>\n",
       "      <td>25</td>\n",
       "      <td>PT2M14S</td>\n",
       "      <td>5256414</td>\n",
       "      <td>46713</td>\n",
       "      <td>7743</td>\n",
       "      <td>NaN</td>\n",
       "      <td>None</td>\n",
       "      <td>None</td>\n",
       "      <td>yFH4Ksxo_gNiaehMUf0lJt2cEyo</td>\n",
       "      <td>2022-01-01</td>\n",
       "      <td>2022-03-31 23:59:59</td>\n",
       "      <td>한국 핵무장</td>\n",
       "      <td>2023-05-01 01:06:25</td>\n",
       "    </tr>\n",
       "    <tr>\n",
       "      <th>262</th>\n",
       "      <td>2022-02-22T02:00:12Z</td>\n",
       "      <td>zUe-pXMi5B0</td>\n",
       "      <td>[K디펜스] \"美  첫 24대...주변국 초긴장\" 韓 하늘에 '세계최강' 등장 / ...</td>\n",
       "      <td>지구상에서 가장 강력한 공격헬기인 신형 아파치 헬기가 주한미군에 실전 배치됐습니다....</td>\n",
       "      <td>UClErHbdZKUnD1NyIUeQWvuQ</td>\n",
       "      <td>MTN 머니투데이방송</td>\n",
       "      <td>[아파치, 공격헬기, 주한미군, 신형, 평택, 미군, 헬기, AH64, 북한, 여의...</td>\n",
       "      <td>25</td>\n",
       "      <td>PT2M37S</td>\n",
       "      <td>4267622</td>\n",
       "      <td>33601</td>\n",
       "      <td>1965</td>\n",
       "      <td>NaN</td>\n",
       "      <td>None</td>\n",
       "      <td>None</td>\n",
       "      <td>frulvGkDeTYUfuS7fmsZYKowFU4</td>\n",
       "      <td>2022-01-01</td>\n",
       "      <td>2022-03-31 23:59:59</td>\n",
       "      <td>한국 핵무장</td>\n",
       "      <td>2023-05-01 01:06:25</td>\n",
       "    </tr>\n",
       "    <tr>\n",
       "      <th>315</th>\n",
       "      <td>2021-09-11T22:00:09Z</td>\n",
       "      <td>OnURsktTA9s</td>\n",
       "      <td>韓 보복무기 세계가 깜짝 “미스터리 3개 더 남았다” [K디펜스 / 머니투데이방송]</td>\n",
       "      <td>지난 9월 1일, 한국 해군의 신형 3000t급 잠수함 도산 안창호 함에서 SLBM...</td>\n",
       "      <td>UClErHbdZKUnD1NyIUeQWvuQ</td>\n",
       "      <td>MTN 머니투데이방송</td>\n",
       "      <td>[미사일협정, 현무, 4-4, 4-1, 보라매, 해군, 도산안창호함, SLBM, 잠...</td>\n",
       "      <td>25</td>\n",
       "      <td>PT3M59S</td>\n",
       "      <td>4125199</td>\n",
       "      <td>33974</td>\n",
       "      <td>1302</td>\n",
       "      <td>NaN</td>\n",
       "      <td>None</td>\n",
       "      <td>None</td>\n",
       "      <td>UoiSo8EDAnGwPAJsZWkx_ZrYGYo</td>\n",
       "      <td>2021-07-01</td>\n",
       "      <td>2021-09-30 23:59:59</td>\n",
       "      <td>한국 핵무장</td>\n",
       "      <td>2023-05-01 01:06:25</td>\n",
       "    </tr>\n",
       "    <tr>\n",
       "      <th>550</th>\n",
       "      <td>2020-09-18T07:00:03Z</td>\n",
       "      <td>FF7xu8PnwJ8</td>\n",
       "      <td>RIMPAC 미해군 핵항모 등 15척 전멸, 세계 최강 반열에 등극한 한국 해군의 ...</td>\n",
       "      <td>#원샷원킬 #퍼펙트_장보고 #잠수함\\n\\n작지만 치명적인 위력을 지닌 최강의 전력무...</td>\n",
       "      <td>UCFCtZJTuJhE18k8IXwmXTYQ</td>\n",
       "      <td>EBSDocumentary (EBS 다큐)</td>\n",
       "      <td>[EBS, EBS documentary, EBS 다큐멘터리, 다큐, docu, 강철...</td>\n",
       "      <td>19</td>\n",
       "      <td>PT30M54S</td>\n",
       "      <td>3791012</td>\n",
       "      <td>33200</td>\n",
       "      <td>1631</td>\n",
       "      <td>NaN</td>\n",
       "      <td>None</td>\n",
       "      <td>None</td>\n",
       "      <td>b_QmjYvaqxWlSuEkEi7rbk6e8f4</td>\n",
       "      <td>2020-07-01</td>\n",
       "      <td>2020-09-30 23:59:59</td>\n",
       "      <td>한국 핵무장</td>\n",
       "      <td>2023-05-01 01:06:25</td>\n",
       "    </tr>\n",
       "  </tbody>\n",
       "</table>\n",
       "</div>"
      ],
      "text/plain": [
       "             published_at     video_id  \\\n",
       "475  2020-10-17T03:00:01Z  KDKjmzSbryM   \n",
       "233  2022-03-02T10:22:28Z  wgSyHiqkZfU   \n",
       "262  2022-02-22T02:00:12Z  zUe-pXMi5B0   \n",
       "315  2021-09-11T22:00:09Z  OnURsktTA9s   \n",
       "550  2020-09-18T07:00:03Z  FF7xu8PnwJ8   \n",
       "\n",
       "                                           video_title  \\\n",
       "475                         (ENG)북한이 한국에게 핵을 쏘면 생기는 일?   \n",
       "233          [자막뉴스] \"푸틴은 독재자\"...바이든, 연설 중 한국도 거론 / YTN   \n",
       "262  [K디펜스] \"美  첫 24대...주변국 초긴장\" 韓 하늘에 '세계최강' 등장 / ...   \n",
       "315     韓 보복무기 세계가 깜짝 “미스터리 3개 더 남았다” [K디펜스 / 머니투데이방송]   \n",
       "550  RIMPAC 미해군 핵항모 등 15척 전멸, 세계 최강 반열에 등극한 한국 해군의 ...   \n",
       "\n",
       "                                     video_description  \\\n",
       "475  #미사일 #북한핵 #북한\\n\\n오늘은 미사일 전문가 멋진창창님과 함께\\n\\n북한의 ...   \n",
       "233  지난해 1월 취임 이후 처음으로 국정연설에 나선 바이든 미 대통령.\\n\\n러시아의 ...   \n",
       "262  지구상에서 가장 강력한 공격헬기인 신형 아파치 헬기가 주한미군에 실전 배치됐습니다....   \n",
       "315  지난 9월 1일, 한국 해군의 신형 3000t급 잠수함 도산 안창호 함에서 SLBM...   \n",
       "550  #원샷원킬 #퍼펙트_장보고 #잠수함\\n\\n작지만 치명적인 위력을 지닌 최강의 전력무...   \n",
       "\n",
       "                   channel_id            channel_title  \\\n",
       "475  UCoCvTlU0KpNYwnMIgs7MPrA                  보다 BODA   \n",
       "233  UChlgI3UHCOnwUGzWzbJ3H5w                      YTN   \n",
       "262  UClErHbdZKUnD1NyIUeQWvuQ              MTN 머니투데이방송   \n",
       "315  UClErHbdZKUnD1NyIUeQWvuQ              MTN 머니투데이방송   \n",
       "550  UCFCtZJTuJhE18k8IXwmXTYQ  EBSDocumentary (EBS 다큐)   \n",
       "\n",
       "                                                  tags  category_id  duration  \\\n",
       "475  [씨랩, CLAB, 소셜, 리액션, Youtube reaction, react, k...           24  PT15M36S   \n",
       "233  [source:영상, type:디지털, genre:국제, format:기타, ser...           25   PT2M14S   \n",
       "262  [아파치, 공격헬기, 주한미군, 신형, 평택, 미군, 헬기, AH64, 북한, 여의...           25   PT2M37S   \n",
       "315  [미사일협정, 현무, 4-4, 4-1, 보라매, 해군, 도산안창호함, SLBM, 잠...           25   PT3M59S   \n",
       "550  [EBS, EBS documentary, EBS 다큐멘터리, 다큐, docu, 강철...           19  PT30M54S   \n",
       "\n",
       "     view_count  like_count  comment_count regions_blocked regions_allowed  \\\n",
       "475     5766047        <NA>           <NA>             NaN            None   \n",
       "233     5256414       46713           7743             NaN            None   \n",
       "262     4267622       33601           1965             NaN            None   \n",
       "315     4125199       33974           1302             NaN            None   \n",
       "550     3791012       33200           1631             NaN            None   \n",
       "\n",
       "    content_rating                         etag window_start  \\\n",
       "475           None  wGuGJ5miKX67ItJdDXho-PVbpcQ   2020-10-01   \n",
       "233           None  yFH4Ksxo_gNiaehMUf0lJt2cEyo   2022-01-01   \n",
       "262           None  frulvGkDeTYUfuS7fmsZYKowFU4   2022-01-01   \n",
       "315           None  UoiSo8EDAnGwPAJsZWkx_ZrYGYo   2021-07-01   \n",
       "550           None  b_QmjYvaqxWlSuEkEi7rbk6e8f4   2020-07-01   \n",
       "\n",
       "              window_end   query      collection_date  \n",
       "475  2020-12-31 23:59:59  한국 핵무장  2023-05-01 01:06:25  \n",
       "233  2022-03-31 23:59:59  한국 핵무장  2023-05-01 01:06:25  \n",
       "262  2022-03-31 23:59:59  한국 핵무장  2023-05-01 01:06:25  \n",
       "315  2021-09-30 23:59:59  한국 핵무장  2023-05-01 01:06:25  \n",
       "550  2020-09-30 23:59:59  한국 핵무장  2023-05-01 01:06:25  "
      ]
     },
     "execution_count": 28,
     "metadata": {},
     "output_type": "execute_result"
    }
   ],
   "source": [
    "# sort by highest view count\n",
    "details.sort_values(by='view_count', ascending=False).head()"
   ]
  },
  {
   "cell_type": "code",
   "execution_count": 31,
   "metadata": {},
   "outputs": [
    {
     "data": {
      "text/plain": [
       "<Axes: ylabel='Frequency'>"
      ]
     },
     "execution_count": 31,
     "metadata": {},
     "output_type": "execute_result"
    },
    {
     "data": {
      "image/png": "[encoded data removed]",
      "text/plain": [
       "<Figure size 640x480 with 1 Axes>"
      ]
     },
     "metadata": {},
     "output_type": "display_data"
    }
   ],
   "source": [
    "# plot the view count distribution on x-axis\n",
    "details['comment_count'].plot.hist(bins=50, logy=True)"
   ]
  }
 ],
 "metadata": {
  "kernelspec": {
   "display_name": "sk-nuclear",
   "language": "python",
   "name": "python3"
  },
  "language_info": {
   "codemirror_mode": {
    "name": "ipython",
    "version": 3
   },
   "file_extension": ".py",
   "mimetype": "text/x-python",
   "name": "python",
   "nbconvert_exporter": "python",
   "pygments_lexer": "ipython3",
   "version": "3.9.16"
  },
  "orig_nbformat": 4
 },
 "nbformat": 4,
 "nbformat_minor": 2
}

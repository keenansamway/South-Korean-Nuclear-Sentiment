{
 "cells": [
  {
   "attachments": {},
   "cell_type": "markdown",
   "metadata": {},
   "source": [
    "## YouTube API Info\n",
    "Costs:\n",
    "- Search: 100 credits per request (1-50 videos)\n",
    "- Video Details: 1 credit per request (1-50 videos)\n",
    "- Comment Threads: 1 credit per request (1-100 comment threads)\n",
    "\n",
    "Quota: 10,000 credits per day\n",
    "- Search: max 5,000 videos per day\n",
    "- Video Details: max 500,000 videos per day\n",
    "- Comment Threads: max 1,000,000 comment threads per day"
   ]
  },
  {
   "cell_type": "code",
   "execution_count": 1,
   "metadata": {},
   "outputs": [],
   "source": [
    "%load_ext autoreload\n",
    "%autoreload 2\n",
    "\n",
    "import os\n",
    "import pandas as pd\n",
    "import matplotlib.pyplot as plt\n",
    "from datetime import datetime\n",
    "from pathlib import Path\n",
    "from dotenv import load_dotenv\n",
    "from tqdm import tqdm\n",
    "from datetime import datetime\n",
    "\n",
    "from youtube_helper import YouTubeHelper"
   ]
  },
  {
   "cell_type": "code",
   "execution_count": 2,
   "metadata": {},
   "outputs": [],
   "source": [
    "DATA_DIR = Path.cwd() / 'content'\n",
    "COMMENTS_DIR = DATA_DIR / 'video_comments'\n",
    "SEARCH_DIR = DATA_DIR / 'video_search'"
   ]
  },
  {
   "cell_type": "code",
   "execution_count": 3,
   "metadata": {},
   "outputs": [],
   "source": [
    "yt = YouTubeHelper()"
   ]
  },
  {
   "attachments": {},
   "cell_type": "markdown",
   "metadata": {},
   "source": [
    "### Example"
   ]
  },
  {
   "cell_type": "code",
   "execution_count": null,
   "metadata": {},
   "outputs": [],
   "source": [
    "start_date_ex = pd.to_datetime('2019-01-01')\n",
    "end_date_ex = start_date_ex + pd.DateOffset(months=1)\n",
    "\n",
    "print(start_date_ex, \"-\", end_date_ex)\n",
    "\n",
    "results_ex = yt.search(\n",
    "    \"한국 핵무장\",\n",
    "    start_date=start_date_ex,\n",
    "    end_date=end_date_ex,\n",
    "    order_by=\"rating\",\n",
    "    results_to_get=50,\n",
    ")\n",
    "\n",
    "results_ex['query'] = '한국 핵무장'"
   ]
  },
  {
   "cell_type": "code",
   "execution_count": null,
   "metadata": {},
   "outputs": [],
   "source": [
    "print(len(results_ex))\n",
    "results_ex"
   ]
  },
  {
   "attachments": {},
   "cell_type": "markdown",
   "metadata": {},
   "source": [
    "### Pipeline"
   ]
  },
  {
   "attachments": {},
   "cell_type": "markdown",
   "metadata": {},
   "source": [
    "- 한국 핵무장\n",
    "- 한국 핵개발\n"
   ]
  },
  {
   "cell_type": "code",
   "execution_count": 4,
   "metadata": {},
   "outputs": [
    {
     "name": "stderr",
     "output_type": "stream",
     "text": [
      "Searching for '한국 핵개발' from 2014-07-01 00:00:00 to 2014-09-30 23:59:59: 100%|██████████| 35/35 [00:16<00:00,  2.13it/s]\n"
     ]
    }
   ],
   "source": [
    "results = yt.rolling_search(\n",
    "    query=\"한국 핵개발\",\n",
    "    start_date=pd.to_datetime('2023-04-01'),\n",
    "    window_size=3, # in months\n",
    "    num_windows=34, # num_windows * window_size = total months\n",
    "    results_per_window=50,\n",
    "    direction='backward',\n",
    "    # test_dates=True,\n",
    ")"
   ]
  },
  {
   "cell_type": "code",
   "execution_count": 5,
   "metadata": {},
   "outputs": [],
   "source": [
    "results.to_csv(SEARCH_DIR / f\"search_results_{datetime.now().strftime('%Y%m%d-%H%M')}.csv\", index=False)"
   ]
  },
  {
   "cell_type": "code",
   "execution_count": 7,
   "metadata": {},
   "outputs": [
    {
     "data": {
      "text/plain": [
       "1750"
      ]
     },
     "execution_count": 7,
     "metadata": {},
     "output_type": "execute_result"
    }
   ],
   "source": [
    "len(results)"
   ]
  },
  {
   "cell_type": "code",
   "execution_count": null,
   "metadata": {},
   "outputs": [],
   "source": [
    "# search_results_20230501-0122.csv\n",
    "# search_results_20230501-2312.csv"
   ]
  },
  {
   "cell_type": "code",
   "execution_count": 8,
   "metadata": {},
   "outputs": [
    {
     "data": {
      "text/plain": [
       "('2014-07-01 00:00:00', '2023-03-31 23:59:59')"
      ]
     },
     "execution_count": 8,
     "metadata": {},
     "output_type": "execute_result"
    }
   ],
   "source": [
    "results.window_start.min(), results.window_end.max()"
   ]
  },
  {
   "cell_type": "code",
   "execution_count": 6,
   "metadata": {},
   "outputs": [
    {
     "data": {
      "text/html": [
       "<div>\n",
       "<style scoped>\n",
       "    .dataframe tbody tr th:only-of-type {\n",
       "        vertical-align: middle;\n",
       "    }\n",
       "\n",
       "    .dataframe tbody tr th {\n",
       "        vertical-align: top;\n",
       "    }\n",
       "\n",
       "    .dataframe thead th {\n",
       "        text-align: right;\n",
       "    }\n",
       "</style>\n",
       "<table border=\"1\" class=\"dataframe\">\n",
       "  <thead>\n",
       "    <tr style=\"text-align: right;\">\n",
       "      <th></th>\n",
       "      <th>published_at</th>\n",
       "      <th>video_id</th>\n",
       "      <th>video_title</th>\n",
       "      <th>video_description</th>\n",
       "      <th>channel_id</th>\n",
       "      <th>channel_title</th>\n",
       "      <th>etag</th>\n",
       "      <th>window_start</th>\n",
       "      <th>window_end</th>\n",
       "      <th>query</th>\n",
       "      <th>collection_date</th>\n",
       "    </tr>\n",
       "  </thead>\n",
       "  <tbody>\n",
       "    <tr>\n",
       "      <th>0</th>\n",
       "      <td>2023-03-09T11:47:45Z</td>\n",
       "      <td>Yr3h485MeTM</td>\n",
       "      <td>&amp;quot;한국이 핵 개발해도 미국이 강력 반대 안 할 듯&amp;quot; [인사이드 경...</td>\n",
       "      <td>북한이 핵과 미사일 능력을 급속도로 고도화하고, 핵탄두를 기하급수적으로 늘리겠다고 ...</td>\n",
       "      <td>UCcQTRi69dsVYHN3exePtZ1A</td>\n",
       "      <td>KBS News</td>\n",
       "      <td>27Lg9DERApxiU5icak9PoTWFo_s</td>\n",
       "      <td>2023-01-01 00:00:00</td>\n",
       "      <td>2023-03-31 23:59:59</td>\n",
       "      <td>한국 핵개발</td>\n",
       "      <td>2023-05-01 23:12:21</td>\n",
       "    </tr>\n",
       "    <tr>\n",
       "      <th>1</th>\n",
       "      <td>2023-01-04T06:49:15Z</td>\n",
       "      <td>pbst6XB7GVY</td>\n",
       "      <td>[자막뉴스] &amp;quot;한국은 핵 보유국이...&amp;quot; 미국의 강력한 한마디 /...</td>\n",
       "      <td>백악관은 조 바이든 대통령이 한미 핵 공동 연습 계획이 없다고 말한 건 한국이 핵 ...</td>\n",
       "      <td>UChlgI3UHCOnwUGzWzbJ3H5w</td>\n",
       "      <td>YTN</td>\n",
       "      <td>hU8KD_na2w9R33OfLvieuhudVss</td>\n",
       "      <td>2023-01-01 00:00:00</td>\n",
       "      <td>2023-03-31 23:59:59</td>\n",
       "      <td>한국 핵개발</td>\n",
       "      <td>2023-05-01 23:12:21</td>\n",
       "    </tr>\n",
       "    <tr>\n",
       "      <th>2</th>\n",
       "      <td>2023-02-02T05:46:30Z</td>\n",
       "      <td>fYX_Mru5tNw</td>\n",
       "      <td>[자막뉴스] &amp;quot;한국 핵무장, 전 세계 소프트파워 파괴&amp;quot; 강력한 경...</td>\n",
       "      <td>미국의 지그프리드 해커 박사는 한국의 핵무장을 주제로 한 세미나에서 한국의 과학기술...</td>\n",
       "      <td>UChlgI3UHCOnwUGzWzbJ3H5w</td>\n",
       "      <td>YTN</td>\n",
       "      <td>bncw-sVYhft26xeyu4AM6BZbvxo</td>\n",
       "      <td>2023-01-01 00:00:00</td>\n",
       "      <td>2023-03-31 23:59:59</td>\n",
       "      <td>한국 핵개발</td>\n",
       "      <td>2023-05-01 23:12:21</td>\n",
       "    </tr>\n",
       "    <tr>\n",
       "      <th>3</th>\n",
       "      <td>2023-01-30T10:36:06Z</td>\n",
       "      <td>pOXePZ3o07s</td>\n",
       "      <td>북핵 위협 고조 속 국민 76.6% &amp;quot;한국 독자적 핵개발 필요&amp;quot; ...</td>\n",
       "      <td>북핵 위협 고조 속 국민 76.6% \"한국 독자적 핵개발 필요\" 북한의 핵·미사일 ...</td>\n",
       "      <td>UCTHCOPwqNfZ0uiKOvFyhGwg</td>\n",
       "      <td>연합뉴스TV</td>\n",
       "      <td>pfZ8gXrj68sLOHXdCEDK77wjqqQ</td>\n",
       "      <td>2023-01-01 00:00:00</td>\n",
       "      <td>2023-03-31 23:59:59</td>\n",
       "      <td>한국 핵개발</td>\n",
       "      <td>2023-05-01 23:12:21</td>\n",
       "    </tr>\n",
       "    <tr>\n",
       "      <th>4</th>\n",
       "      <td>2023-02-17T11:54:00Z</td>\n",
       "      <td>iaPbuz2pjoQ</td>\n",
       "      <td>북한의 연이은 미사일 도발...거세지는 한국의 독자 핵무장론 파헤쳐 봄 (ft. 마...</td>\n",
       "      <td>비디오머그 #핵무장 #북한 안녕하세요. SBS 통일외교팀장 김수형 기자입니다. 떠들...</td>\n",
       "      <td>UCMEbRpvuwTbXxGiyDb1mT8w</td>\n",
       "      <td>비디오머그 - VIDEOMUG</td>\n",
       "      <td>iwrmq3WfApH2vMoeFif1SRs4VA8</td>\n",
       "      <td>2023-01-01 00:00:00</td>\n",
       "      <td>2023-03-31 23:59:59</td>\n",
       "      <td>한국 핵개발</td>\n",
       "      <td>2023-05-01 23:12:21</td>\n",
       "    </tr>\n",
       "  </tbody>\n",
       "</table>\n",
       "</div>"
      ],
      "text/plain": [
       "           published_at     video_id  \\\n",
       "0  2023-03-09T11:47:45Z  Yr3h485MeTM   \n",
       "1  2023-01-04T06:49:15Z  pbst6XB7GVY   \n",
       "2  2023-02-02T05:46:30Z  fYX_Mru5tNw   \n",
       "3  2023-01-30T10:36:06Z  pOXePZ3o07s   \n",
       "4  2023-02-17T11:54:00Z  iaPbuz2pjoQ   \n",
       "\n",
       "                                         video_title  \\\n",
       "0  &quot;한국이 핵 개발해도 미국이 강력 반대 안 할 듯&quot; [인사이드 경...   \n",
       "1  [자막뉴스] &quot;한국은 핵 보유국이...&quot; 미국의 강력한 한마디 /...   \n",
       "2  [자막뉴스] &quot;한국 핵무장, 전 세계 소프트파워 파괴&quot; 강력한 경...   \n",
       "3  북핵 위협 고조 속 국민 76.6% &quot;한국 독자적 핵개발 필요&quot; ...   \n",
       "4  북한의 연이은 미사일 도발...거세지는 한국의 독자 핵무장론 파헤쳐 봄 (ft. 마...   \n",
       "\n",
       "                                   video_description  \\\n",
       "0  북한이 핵과 미사일 능력을 급속도로 고도화하고, 핵탄두를 기하급수적으로 늘리겠다고 ...   \n",
       "1  백악관은 조 바이든 대통령이 한미 핵 공동 연습 계획이 없다고 말한 건 한국이 핵 ...   \n",
       "2  미국의 지그프리드 해커 박사는 한국의 핵무장을 주제로 한 세미나에서 한국의 과학기술...   \n",
       "3  북핵 위협 고조 속 국민 76.6% \"한국 독자적 핵개발 필요\" 북한의 핵·미사일 ...   \n",
       "4  비디오머그 #핵무장 #북한 안녕하세요. SBS 통일외교팀장 김수형 기자입니다. 떠들...   \n",
       "\n",
       "                 channel_id     channel_title                         etag  \\\n",
       "0  UCcQTRi69dsVYHN3exePtZ1A          KBS News  27Lg9DERApxiU5icak9PoTWFo_s   \n",
       "1  UChlgI3UHCOnwUGzWzbJ3H5w               YTN  hU8KD_na2w9R33OfLvieuhudVss   \n",
       "2  UChlgI3UHCOnwUGzWzbJ3H5w               YTN  bncw-sVYhft26xeyu4AM6BZbvxo   \n",
       "3  UCTHCOPwqNfZ0uiKOvFyhGwg            연합뉴스TV  pfZ8gXrj68sLOHXdCEDK77wjqqQ   \n",
       "4  UCMEbRpvuwTbXxGiyDb1mT8w  비디오머그 - VIDEOMUG  iwrmq3WfApH2vMoeFif1SRs4VA8   \n",
       "\n",
       "          window_start           window_end   query     collection_date  \n",
       "0  2023-01-01 00:00:00  2023-03-31 23:59:59  한국 핵개발 2023-05-01 23:12:21  \n",
       "1  2023-01-01 00:00:00  2023-03-31 23:59:59  한국 핵개발 2023-05-01 23:12:21  \n",
       "2  2023-01-01 00:00:00  2023-03-31 23:59:59  한국 핵개발 2023-05-01 23:12:21  \n",
       "3  2023-01-01 00:00:00  2023-03-31 23:59:59  한국 핵개발 2023-05-01 23:12:21  \n",
       "4  2023-01-01 00:00:00  2023-03-31 23:59:59  한국 핵개발 2023-05-01 23:12:21  "
      ]
     },
     "execution_count": 6,
     "metadata": {},
     "output_type": "execute_result"
    }
   ],
   "source": [
    "results.head()"
   ]
  },
  {
   "cell_type": "code",
   "execution_count": 4,
   "metadata": {},
   "outputs": [],
   "source": [
    "results = pd.read_csv(SEARCH_DIR / 'search_results_20230501-0122.csv')"
   ]
  },
  {
   "attachments": {},
   "cell_type": "markdown",
   "metadata": {},
   "source": [
    "### Get Details"
   ]
  },
  {
   "cell_type": "code",
   "execution_count": 10,
   "metadata": {},
   "outputs": [
    {
     "data": {
      "text/html": [
       "<div>\n",
       "<style scoped>\n",
       "    .dataframe tbody tr th:only-of-type {\n",
       "        vertical-align: middle;\n",
       "    }\n",
       "\n",
       "    .dataframe tbody tr th {\n",
       "        vertical-align: top;\n",
       "    }\n",
       "\n",
       "    .dataframe thead th {\n",
       "        text-align: right;\n",
       "    }\n",
       "</style>\n",
       "<table border=\"1\" class=\"dataframe\">\n",
       "  <thead>\n",
       "    <tr style=\"text-align: right;\">\n",
       "      <th></th>\n",
       "      <th>published_at</th>\n",
       "      <th>video_id</th>\n",
       "      <th>video_title</th>\n",
       "      <th>video_description</th>\n",
       "      <th>channel_id</th>\n",
       "      <th>channel_title</th>\n",
       "      <th>etag</th>\n",
       "      <th>window_start</th>\n",
       "      <th>window_end</th>\n",
       "      <th>query</th>\n",
       "      <th>collection_date</th>\n",
       "    </tr>\n",
       "  </thead>\n",
       "  <tbody>\n",
       "    <tr>\n",
       "      <th>0</th>\n",
       "      <td>2023-03-09T11:47:45Z</td>\n",
       "      <td>Yr3h485MeTM</td>\n",
       "      <td>&amp;quot;한국이 핵 개발해도 미국이 강력 반대 안 할 듯&amp;quot; [인사이드 경...</td>\n",
       "      <td>북한이 핵과 미사일 능력을 급속도로 고도화하고, 핵탄두를 기하급수적으로 늘리겠다고 ...</td>\n",
       "      <td>UCcQTRi69dsVYHN3exePtZ1A</td>\n",
       "      <td>KBS News</td>\n",
       "      <td>27Lg9DERApxiU5icak9PoTWFo_s</td>\n",
       "      <td>2023-01-01 00:00:00</td>\n",
       "      <td>2023-03-31 23:59:59</td>\n",
       "      <td>한국 핵개발</td>\n",
       "      <td>2023-05-01 23:12:21</td>\n",
       "    </tr>\n",
       "  </tbody>\n",
       "</table>\n",
       "</div>"
      ],
      "text/plain": [
       "           published_at     video_id  \\\n",
       "0  2023-03-09T11:47:45Z  Yr3h485MeTM   \n",
       "\n",
       "                                         video_title  \\\n",
       "0  &quot;한국이 핵 개발해도 미국이 강력 반대 안 할 듯&quot; [인사이드 경...   \n",
       "\n",
       "                                   video_description  \\\n",
       "0  북한이 핵과 미사일 능력을 급속도로 고도화하고, 핵탄두를 기하급수적으로 늘리겠다고 ...   \n",
       "\n",
       "                 channel_id channel_title                         etag  \\\n",
       "0  UCcQTRi69dsVYHN3exePtZ1A      KBS News  27Lg9DERApxiU5icak9PoTWFo_s   \n",
       "\n",
       "          window_start           window_end   query     collection_date  \n",
       "0  2023-01-01 00:00:00  2023-03-31 23:59:59  한국 핵개발 2023-05-01 23:12:21  "
      ]
     },
     "execution_count": 10,
     "metadata": {},
     "output_type": "execute_result"
    }
   ],
   "source": [
    "results.head(1)"
   ]
  },
  {
   "cell_type": "code",
   "execution_count": 11,
   "metadata": {},
   "outputs": [],
   "source": [
    "id_list = results['video_id'].tolist()"
   ]
  },
  {
   "cell_type": "code",
   "execution_count": 12,
   "metadata": {},
   "outputs": [
    {
     "name": "stderr",
     "output_type": "stream",
     "text": [
      "Downloading video details...: 100%|██████████| 1750/1750 [00:10<00:00, 161.94it/s]\n"
     ]
    }
   ],
   "source": [
    "details = yt.video_details(id_list)"
   ]
  },
  {
   "cell_type": "code",
   "execution_count": 13,
   "metadata": {},
   "outputs": [
    {
     "data": {
      "text/plain": [
       "444738"
      ]
     },
     "execution_count": 13,
     "metadata": {},
     "output_type": "execute_result"
    }
   ],
   "source": [
    "# total comment count\n",
    "details['comment_count'].sum()"
   ]
  },
  {
   "cell_type": "code",
   "execution_count": 14,
   "metadata": {},
   "outputs": [],
   "source": [
    "# map window_start, window_end, query, and collection date from results to details\n",
    "details['window_start'] = details['video_id'].map(results.set_index('video_id')['window_start'])\n",
    "details['window_end'] = details['video_id'].map(results.set_index('video_id')['window_end'])\n",
    "details['query'] = details['video_id'].map(results.set_index('video_id')['query'])\n",
    "details['collection_date'] = details['video_id'].map(results.set_index('video_id')['collection_date'])"
   ]
  },
  {
   "cell_type": "code",
   "execution_count": 16,
   "metadata": {},
   "outputs": [
    {
     "name": "stdout",
     "output_type": "stream",
     "text": [
      "1750\n"
     ]
    },
    {
     "data": {
      "text/html": [
       "<div>\n",
       "<style scoped>\n",
       "    .dataframe tbody tr th:only-of-type {\n",
       "        vertical-align: middle;\n",
       "    }\n",
       "\n",
       "    .dataframe tbody tr th {\n",
       "        vertical-align: top;\n",
       "    }\n",
       "\n",
       "    .dataframe thead th {\n",
       "        text-align: right;\n",
       "    }\n",
       "</style>\n",
       "<table border=\"1\" class=\"dataframe\">\n",
       "  <thead>\n",
       "    <tr style=\"text-align: right;\">\n",
       "      <th></th>\n",
       "      <th>published_at</th>\n",
       "      <th>video_id</th>\n",
       "      <th>video_title</th>\n",
       "      <th>video_description</th>\n",
       "      <th>channel_id</th>\n",
       "      <th>channel_title</th>\n",
       "      <th>tags</th>\n",
       "      <th>category_id</th>\n",
       "      <th>duration</th>\n",
       "      <th>view_count</th>\n",
       "      <th>like_count</th>\n",
       "      <th>comment_count</th>\n",
       "      <th>regions_blocked</th>\n",
       "      <th>regions_allowed</th>\n",
       "      <th>content_rating</th>\n",
       "      <th>etag</th>\n",
       "      <th>window_start</th>\n",
       "      <th>window_end</th>\n",
       "      <th>query</th>\n",
       "      <th>collection_date</th>\n",
       "    </tr>\n",
       "  </thead>\n",
       "  <tbody>\n",
       "    <tr>\n",
       "      <th>0</th>\n",
       "      <td>2023-03-09T11:47:45Z</td>\n",
       "      <td>Yr3h485MeTM</td>\n",
       "      <td>\"한국이 핵 개발해도 미국이 강력 반대 안 할 듯\" [인사이드 경인] / KBS 2...</td>\n",
       "      <td>북한이 핵과 미사일 능력을 급속도로 고도화하고, 핵탄두를 기하급수적으로 늘리겠다고 ...</td>\n",
       "      <td>UCcQTRi69dsVYHN3exePtZ1A</td>\n",
       "      <td>KBS News</td>\n",
       "      <td>[북한, 미국, 핵개발]</td>\n",
       "      <td>25</td>\n",
       "      <td>PT7M46S</td>\n",
       "      <td>234495</td>\n",
       "      <td>2149</td>\n",
       "      <td>1422</td>\n",
       "      <td>NaN</td>\n",
       "      <td>None</td>\n",
       "      <td>None</td>\n",
       "      <td>QBIAOKun21M0a5rURdQ-c2pW3bk</td>\n",
       "      <td>2023-01-01 00:00:00</td>\n",
       "      <td>2023-03-31 23:59:59</td>\n",
       "      <td>한국 핵개발</td>\n",
       "      <td>2023-05-01 23:12:21</td>\n",
       "    </tr>\n",
       "  </tbody>\n",
       "</table>\n",
       "</div>"
      ],
      "text/plain": [
       "           published_at     video_id  \\\n",
       "0  2023-03-09T11:47:45Z  Yr3h485MeTM   \n",
       "\n",
       "                                         video_title  \\\n",
       "0  \"한국이 핵 개발해도 미국이 강력 반대 안 할 듯\" [인사이드 경인] / KBS 2...   \n",
       "\n",
       "                                   video_description  \\\n",
       "0  북한이 핵과 미사일 능력을 급속도로 고도화하고, 핵탄두를 기하급수적으로 늘리겠다고 ...   \n",
       "\n",
       "                 channel_id channel_title           tags  category_id  \\\n",
       "0  UCcQTRi69dsVYHN3exePtZ1A      KBS News  [북한, 미국, 핵개발]           25   \n",
       "\n",
       "  duration  view_count  like_count  comment_count regions_blocked  \\\n",
       "0  PT7M46S      234495        2149           1422             NaN   \n",
       "\n",
       "  regions_allowed content_rating                         etag  \\\n",
       "0            None           None  QBIAOKun21M0a5rURdQ-c2pW3bk   \n",
       "\n",
       "          window_start           window_end   query     collection_date  \n",
       "0  2023-01-01 00:00:00  2023-03-31 23:59:59  한국 핵개발 2023-05-01 23:12:21  "
      ]
     },
     "execution_count": 16,
     "metadata": {},
     "output_type": "execute_result"
    }
   ],
   "source": [
    "print(len(details))\n",
    "details.head(1)"
   ]
  },
  {
   "cell_type": "code",
   "execution_count": 23,
   "metadata": {},
   "outputs": [],
   "source": [
    "details.iloc.to_csv(SEARCH_DIR / 'video_details_20230501-2312.csv', index=False)"
   ]
  },
  {
   "cell_type": "code",
   "execution_count": 27,
   "metadata": {},
   "outputs": [
    {
     "name": "stdout",
     "output_type": "stream",
     "text": [
      "1700\n",
      "1700\n",
      "2924\n"
     ]
    }
   ],
   "source": [
    "details1 = pd.read_csv(SEARCH_DIR / 'video_details_20230501-0122.csv')\n",
    "details2 = pd.read_csv(SEARCH_DIR / 'video_details_20230501-2312.csv')\n",
    "print(len(details1))\n",
    "print(len(details2))\n",
    "\n",
    "# combine details1 and details2 into one dataframe with unique video_id\n",
    "details_full = pd.concat([details1, details2]).drop_duplicates(subset='video_id')\n",
    "print(len(details_full))"
   ]
  },
  {
   "cell_type": "code",
   "execution_count": 31,
   "metadata": {},
   "outputs": [],
   "source": [
    "details_full.to_csv(DATA_DIR / 'video_details_full.csv', index=False)"
   ]
  },
  {
   "attachments": {},
   "cell_type": "markdown",
   "metadata": {},
   "source": [
    "### EDA"
   ]
  },
  {
   "cell_type": "code",
   "execution_count": 28,
   "metadata": {},
   "outputs": [
    {
     "data": {
      "text/html": [
       "<div>\n",
       "<style scoped>\n",
       "    .dataframe tbody tr th:only-of-type {\n",
       "        vertical-align: middle;\n",
       "    }\n",
       "\n",
       "    .dataframe tbody tr th {\n",
       "        vertical-align: top;\n",
       "    }\n",
       "\n",
       "    .dataframe thead th {\n",
       "        text-align: right;\n",
       "    }\n",
       "</style>\n",
       "<table border=\"1\" class=\"dataframe\">\n",
       "  <thead>\n",
       "    <tr style=\"text-align: right;\">\n",
       "      <th></th>\n",
       "      <th>published_at</th>\n",
       "      <th>video_id</th>\n",
       "      <th>video_title</th>\n",
       "      <th>video_description</th>\n",
       "      <th>channel_id</th>\n",
       "      <th>channel_title</th>\n",
       "      <th>tags</th>\n",
       "      <th>category_id</th>\n",
       "      <th>duration</th>\n",
       "      <th>view_count</th>\n",
       "      <th>like_count</th>\n",
       "      <th>comment_count</th>\n",
       "      <th>regions_blocked</th>\n",
       "      <th>regions_allowed</th>\n",
       "      <th>content_rating</th>\n",
       "      <th>etag</th>\n",
       "      <th>window_start</th>\n",
       "      <th>window_end</th>\n",
       "      <th>query</th>\n",
       "      <th>collection_date</th>\n",
       "    </tr>\n",
       "  </thead>\n",
       "  <tbody>\n",
       "    <tr>\n",
       "      <th>219</th>\n",
       "      <td>2022-03-01T20:49:51Z</td>\n",
       "      <td>FxFS00wg84M</td>\n",
       "      <td>러시아 실제 핵폭탄 폭발 순간 (구 소련, 1961)</td>\n",
       "      <td>1961년 소련에서 실제로 폭발 실험한 핵폭탄, 차르봄바\\n인류 역사상 가장 강력한...</td>\n",
       "      <td>UCdqeRp0IA8zcIoR6KM1_9kw</td>\n",
       "      <td>1분 지식의 힘</td>\n",
       "      <td>NaN</td>\n",
       "      <td>25</td>\n",
       "      <td>PT1M</td>\n",
       "      <td>10783999</td>\n",
       "      <td>100349.0</td>\n",
       "      <td>7539.0</td>\n",
       "      <td>NaN</td>\n",
       "      <td>NaN</td>\n",
       "      <td>NaN</td>\n",
       "      <td>mWTNaWSepY_GX-Nwi_qXcfyR1Uk</td>\n",
       "      <td>2022-01-01 00:00:00</td>\n",
       "      <td>2022-03-31 23:59:59</td>\n",
       "      <td>한국 핵개발</td>\n",
       "      <td>2023-05-01 23:12:21</td>\n",
       "    </tr>\n",
       "    <tr>\n",
       "      <th>477</th>\n",
       "      <td>2020-10-22T13:00:11Z</td>\n",
       "      <td>1rkSmp3J2BE</td>\n",
       "      <td>★밀리터리 아카이브★ 육해공 한국형 첨단무기 개발현장 밀착 다큐! | 수리온 K2전...</td>\n",
       "      <td>※ 본 영상은 2010년 방송된 것으로, 무기의 명칭이나 실전배치 일정 등 현재의 ...</td>\n",
       "      <td>UC4LW3sOslC14Vn5bcoNUBkg</td>\n",
       "      <td>KBS 다큐</td>\n",
       "      <td>['KBS', '다큐멘터리', 'docu', 'documentary', '다큐', ...</td>\n",
       "      <td>24</td>\n",
       "      <td>PT58M2S</td>\n",
       "      <td>8824645</td>\n",
       "      <td>57422.0</td>\n",
       "      <td>2536.0</td>\n",
       "      <td>NaN</td>\n",
       "      <td>NaN</td>\n",
       "      <td>NaN</td>\n",
       "      <td>ieIc-T32ikRyW79n7Fenwfxpjkw</td>\n",
       "      <td>2020-10-01 00:00:00</td>\n",
       "      <td>2020-12-31 23:59:59</td>\n",
       "      <td>한국 핵개발</td>\n",
       "      <td>2023-05-01 23:12:21</td>\n",
       "    </tr>\n",
       "    <tr>\n",
       "      <th>764</th>\n",
       "      <td>2019-04-11T12:53:49Z</td>\n",
       "      <td>l8yLj_dNViA</td>\n",
       "      <td>자신을 촬영하는 민간인에게 총을 꺼낸 미국 경찰</td>\n",
       "      <td>캘리포니아, 로너트 파크 경찰관, 로드리게스의 행동이 지역사회에 큰 논란을 일으켰다...</td>\n",
       "      <td>UCU3GJUUpyYRx6aC9RuJH7GQ</td>\n",
       "      <td>트루퍼미헌</td>\n",
       "      <td>['미국경찰', '미국경찰관', '트루퍼미헌']</td>\n",
       "      <td>25</td>\n",
       "      <td>PT6M10S</td>\n",
       "      <td>7172154</td>\n",
       "      <td>32577.0</td>\n",
       "      <td>5713.0</td>\n",
       "      <td>NaN</td>\n",
       "      <td>NaN</td>\n",
       "      <td>NaN</td>\n",
       "      <td>C5wRvuP7UkOfG4qduUKGQWq471M</td>\n",
       "      <td>2019-04-01 00:00:00</td>\n",
       "      <td>2019-06-30 23:59:59</td>\n",
       "      <td>한국 핵개발</td>\n",
       "      <td>2023-05-01 23:12:21</td>\n",
       "    </tr>\n",
       "    <tr>\n",
       "      <th>346</th>\n",
       "      <td>2021-08-16T07:05:34Z</td>\n",
       "      <td>eYj4Yw_hBAk</td>\n",
       "      <td>[통합판] 🔥Korea Military🔥 몰아보기 ㅣ뉴스멘터리 전쟁과 사람 / YTN2</td>\n",
       "      <td>#전투기보라매#K9자주포#미사일주권#미사일방어체계#KF21\\n 우리 손으로 만든 첫...</td>\n",
       "      <td>UCDww6ExpwQS0TzmREIOo40Q</td>\n",
       "      <td>YTN2</td>\n",
       "      <td>['KF-21 보라매', '국사력', 'K-9 자주포', '국방력', 'K9자주포'...</td>\n",
       "      <td>24</td>\n",
       "      <td>PT3H6M1S</td>\n",
       "      <td>6832549</td>\n",
       "      <td>41246.0</td>\n",
       "      <td>2125.0</td>\n",
       "      <td>NaN</td>\n",
       "      <td>NaN</td>\n",
       "      <td>NaN</td>\n",
       "      <td>dVdKT1ztBOs1_H6qfubElGThYXg</td>\n",
       "      <td>2021-07-01 00:00:00</td>\n",
       "      <td>2021-09-30 23:59:59</td>\n",
       "      <td>한국 핵개발</td>\n",
       "      <td>2023-05-01 23:12:21</td>\n",
       "    </tr>\n",
       "    <tr>\n",
       "      <th>1082</th>\n",
       "      <td>2017-10-31T12:01:01Z</td>\n",
       "      <td>qBfyIQbxXPs</td>\n",
       "      <td>Inside North Korea's bubble in Japan</td>\n",
       "      <td>Why North Korea has children’s schools in Japa...</td>\n",
       "      <td>UCLXo7UDZvByw2ixzpQCufnA</td>\n",
       "      <td>Vox</td>\n",
       "      <td>['vox.com', 'vox', 'explain', 'vox borders', '...</td>\n",
       "      <td>25</td>\n",
       "      <td>PT13M28S</td>\n",
       "      <td>6692426</td>\n",
       "      <td>142861.0</td>\n",
       "      <td>13635.0</td>\n",
       "      <td>NaN</td>\n",
       "      <td>NaN</td>\n",
       "      <td>NaN</td>\n",
       "      <td>V73g7EbSuUeJIY3jwq9obCVeiH4</td>\n",
       "      <td>2017-10-01 00:00:00</td>\n",
       "      <td>2017-12-31 23:59:59</td>\n",
       "      <td>한국 핵개발</td>\n",
       "      <td>2023-05-01 23:12:21</td>\n",
       "    </tr>\n",
       "  </tbody>\n",
       "</table>\n",
       "</div>"
      ],
      "text/plain": [
       "              published_at     video_id  \\\n",
       "219   2022-03-01T20:49:51Z  FxFS00wg84M   \n",
       "477   2020-10-22T13:00:11Z  1rkSmp3J2BE   \n",
       "764   2019-04-11T12:53:49Z  l8yLj_dNViA   \n",
       "346   2021-08-16T07:05:34Z  eYj4Yw_hBAk   \n",
       "1082  2017-10-31T12:01:01Z  qBfyIQbxXPs   \n",
       "\n",
       "                                            video_title  \\\n",
       "219                       러시아 실제 핵폭탄 폭발 순간 (구 소련, 1961)   \n",
       "477   ★밀리터리 아카이브★ 육해공 한국형 첨단무기 개발현장 밀착 다큐! | 수리온 K2전...   \n",
       "764                          자신을 촬영하는 민간인에게 총을 꺼낸 미국 경찰   \n",
       "346    [통합판] 🔥Korea Military🔥 몰아보기 ㅣ뉴스멘터리 전쟁과 사람 / YTN2   \n",
       "1082               Inside North Korea's bubble in Japan   \n",
       "\n",
       "                                      video_description  \\\n",
       "219   1961년 소련에서 실제로 폭발 실험한 핵폭탄, 차르봄바\\n인류 역사상 가장 강력한...   \n",
       "477   ※ 본 영상은 2010년 방송된 것으로, 무기의 명칭이나 실전배치 일정 등 현재의 ...   \n",
       "764   캘리포니아, 로너트 파크 경찰관, 로드리게스의 행동이 지역사회에 큰 논란을 일으켰다...   \n",
       "346   #전투기보라매#K9자주포#미사일주권#미사일방어체계#KF21\\n 우리 손으로 만든 첫...   \n",
       "1082  Why North Korea has children’s schools in Japa...   \n",
       "\n",
       "                    channel_id channel_title  \\\n",
       "219   UCdqeRp0IA8zcIoR6KM1_9kw      1분 지식의 힘   \n",
       "477   UC4LW3sOslC14Vn5bcoNUBkg        KBS 다큐   \n",
       "764   UCU3GJUUpyYRx6aC9RuJH7GQ         트루퍼미헌   \n",
       "346   UCDww6ExpwQS0TzmREIOo40Q          YTN2   \n",
       "1082  UCLXo7UDZvByw2ixzpQCufnA           Vox   \n",
       "\n",
       "                                                   tags  category_id  \\\n",
       "219                                                 NaN           25   \n",
       "477   ['KBS', '다큐멘터리', 'docu', 'documentary', '다큐', ...           24   \n",
       "764                          ['미국경찰', '미국경찰관', '트루퍼미헌']           25   \n",
       "346   ['KF-21 보라매', '국사력', 'K-9 자주포', '국방력', 'K9자주포'...           24   \n",
       "1082  ['vox.com', 'vox', 'explain', 'vox borders', '...           25   \n",
       "\n",
       "      duration  view_count  like_count  comment_count regions_blocked  \\\n",
       "219       PT1M    10783999    100349.0         7539.0             NaN   \n",
       "477    PT58M2S     8824645     57422.0         2536.0             NaN   \n",
       "764    PT6M10S     7172154     32577.0         5713.0             NaN   \n",
       "346   PT3H6M1S     6832549     41246.0         2125.0             NaN   \n",
       "1082  PT13M28S     6692426    142861.0        13635.0             NaN   \n",
       "\n",
       "      regions_allowed  content_rating                         etag  \\\n",
       "219               NaN             NaN  mWTNaWSepY_GX-Nwi_qXcfyR1Uk   \n",
       "477               NaN             NaN  ieIc-T32ikRyW79n7Fenwfxpjkw   \n",
       "764               NaN             NaN  C5wRvuP7UkOfG4qduUKGQWq471M   \n",
       "346               NaN             NaN  dVdKT1ztBOs1_H6qfubElGThYXg   \n",
       "1082              NaN             NaN  V73g7EbSuUeJIY3jwq9obCVeiH4   \n",
       "\n",
       "             window_start           window_end   query      collection_date  \n",
       "219   2022-01-01 00:00:00  2022-03-31 23:59:59  한국 핵개발  2023-05-01 23:12:21  \n",
       "477   2020-10-01 00:00:00  2020-12-31 23:59:59  한국 핵개발  2023-05-01 23:12:21  \n",
       "764   2019-04-01 00:00:00  2019-06-30 23:59:59  한국 핵개발  2023-05-01 23:12:21  \n",
       "346   2021-07-01 00:00:00  2021-09-30 23:59:59  한국 핵개발  2023-05-01 23:12:21  \n",
       "1082  2017-10-01 00:00:00  2017-12-31 23:59:59  한국 핵개발  2023-05-01 23:12:21  "
      ]
     },
     "execution_count": 28,
     "metadata": {},
     "output_type": "execute_result"
    }
   ],
   "source": [
    "# sort by highest view count\n",
    "details_full.sort_values(by='view_count', ascending=False).head()"
   ]
  },
  {
   "cell_type": "code",
   "execution_count": 29,
   "metadata": {},
   "outputs": [
    {
     "data": {
      "text/plain": [
       "<Axes: ylabel='Frequency'>"
      ]
     },
     "execution_count": 29,
     "metadata": {},
     "output_type": "execute_result"
    },
    {
     "data": {
      "image/png": "[encoded data removed]",
      "text/plain": [
       "<Figure size 640x480 with 1 Axes>"
      ]
     },
     "metadata": {},
     "output_type": "display_data"
    }
   ],
   "source": [
    "# plot the view count distribution on x-axis\n",
    "details_full['comment_count'].plot.hist(bins=50, logy=True)"
   ]
  }
 ],
 "metadata": {
  "kernelspec": {
   "display_name": "sk-nuclear",
   "language": "python",
   "name": "python3"
  },
  "language_info": {
   "codemirror_mode": {
    "name": "ipython",
    "version": 3
   },
   "file_extension": ".py",
   "mimetype": "text/x-python",
   "name": "python",
   "nbconvert_exporter": "python",
   "pygments_lexer": "ipython3",
   "version": "3.9.16"
  },
  "orig_nbformat": 4
 },
 "nbformat": 4,
 "nbformat_minor": 2
}

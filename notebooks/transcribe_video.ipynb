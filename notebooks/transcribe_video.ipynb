{
 "cells": [
  {
   "cell_type": "code",
   "execution_count": 2,
   "metadata": {},
   "outputs": [
    {
     "data": {
      "text/plain": [
       "'\\n\\nSentence-Transformer:\\n    https://www.sbert.net/docs/pretrained_models.html\\n    https://www.sbert.net/examples/applications/computing-embeddings/README.html\\n\\nText vectorization methods:\\n    https://towardsdatascience.com/getting-started-with-text-vectorization-2f2efbec6685\\n    https://github.com/shirley0823/Book-Recommendations-from-Charles-Darwin/blob/master/Book%20Recommendations%20from%20Charles%20Darwin.ipynb\\n    \\nBreak a long document into (512 token) chuncks, encode with sentence-transformer, then average:\\n    https://towardsdatascience.com/how-to-apply-transformers-to-any-length-of-text-a5601410af7f\\n\\n'"
      ]
     },
     "execution_count": 2,
     "metadata": {},
     "output_type": "execute_result"
    }
   ],
   "source": [
    "\"\"\"\n",
    "\n",
    "Sentence-Transformer:\n",
    "    https://www.sbert.net/docs/pretrained_models.html\n",
    "    https://www.sbert.net/examples/applications/computing-embeddings/README.html\n",
    "\n",
    "Text vectorization methods:\n",
    "    https://towardsdatascience.com/getting-started-with-text-vectorization-2f2efbec6685\n",
    "    https://github.com/shirley0823/Book-Recommendations-from-Charles-Darwin/blob/master/Book%20Recommendations%20from%20Charles%20Darwin.ipynb\n",
    "    \n",
    "Break a long document into (512 token) chuncks, encode with sentence-transformer, then average:\n",
    "    https://towardsdatascience.com/how-to-apply-transformers-to-any-length-of-text-a5601410af7f\n",
    "\n",
    "\"\"\""
   ]
  },
  {
   "cell_type": "code",
   "execution_count": 3,
   "metadata": {},
   "outputs": [],
   "source": [
    "import os\n",
    "import whisper\n",
    "import pandas as pd\n",
    "from pytube import YouTube"
   ]
  },
  {
   "attachments": {},
   "cell_type": "markdown",
   "metadata": {},
   "source": [
    "![Model Card](images/model_card.png)"
   ]
  },
  {
   "cell_type": "code",
   "execution_count": 4,
   "metadata": {},
   "outputs": [],
   "source": [
    "#youtube_video_url = 'https://www.youtube.com/watch?v=0mUaUubTQEQ' # anti\n",
    "youtube_video_url = 'https://www.youtube.com/watch?v=oXiYa5rKjcw' # anti\n",
    "#youtube_video_url = 'https://www.youtube.com/watch?v=Or0vCt_y_3M' # pro\n",
    "youtube_video = YouTube(youtube_video_url)"
   ]
  },
  {
   "cell_type": "code",
   "execution_count": 5,
   "metadata": {},
   "outputs": [
    {
     "data": {
      "text/plain": [
       "'South Korea:  Concerns raised over safety of nuclear plants | Al Jazeera English'"
      ]
     },
     "execution_count": 5,
     "metadata": {},
     "output_type": "execute_result"
    }
   ],
   "source": [
    "youtube_video.title"
   ]
  },
  {
   "cell_type": "code",
   "execution_count": 6,
   "metadata": {},
   "outputs": [
    {
     "data": {
      "text/plain": [
       "'https://i.ytimg.com/vi/oXiYa5rKjcw/sddefault.jpg'"
      ]
     },
     "execution_count": 6,
     "metadata": {},
     "output_type": "execute_result"
    }
   ],
   "source": [
    "youtube_video.thumbnail_url"
   ]
  },
  {
   "cell_type": "code",
   "execution_count": 7,
   "metadata": {},
   "outputs": [
    {
     "data": {
      "text/plain": [
       "['__class__',\n",
       " '__delattr__',\n",
       " '__dict__',\n",
       " '__dir__',\n",
       " '__doc__',\n",
       " '__eq__',\n",
       " '__format__',\n",
       " '__ge__',\n",
       " '__getattribute__',\n",
       " '__gt__',\n",
       " '__hash__',\n",
       " '__init__',\n",
       " '__init_subclass__',\n",
       " '__le__',\n",
       " '__lt__',\n",
       " '__module__',\n",
       " '__ne__',\n",
       " '__new__',\n",
       " '__reduce__',\n",
       " '__reduce_ex__',\n",
       " '__repr__',\n",
       " '__setattr__',\n",
       " '__sizeof__',\n",
       " '__str__',\n",
       " '__subclasshook__',\n",
       " '__weakref__',\n",
       " '_age_restricted',\n",
       " '_author',\n",
       " '_embed_html',\n",
       " '_fmt_streams',\n",
       " '_initial_data',\n",
       " '_js',\n",
       " '_js_url',\n",
       " '_metadata',\n",
       " '_player_config_args',\n",
       " '_publish_date',\n",
       " '_title',\n",
       " '_vid_info',\n",
       " '_watch_html',\n",
       " 'age_restricted',\n",
       " 'allow_oauth_cache',\n",
       " 'author',\n",
       " 'bypass_age_gate',\n",
       " 'caption_tracks',\n",
       " 'captions',\n",
       " 'channel_id',\n",
       " 'channel_url',\n",
       " 'check_availability',\n",
       " 'description',\n",
       " 'embed_html',\n",
       " 'embed_url',\n",
       " 'fmt_streams',\n",
       " 'from_id',\n",
       " 'initial_data',\n",
       " 'js',\n",
       " 'js_url',\n",
       " 'keywords',\n",
       " 'length',\n",
       " 'metadata',\n",
       " 'publish_date',\n",
       " 'rating',\n",
       " 'register_on_complete_callback',\n",
       " 'register_on_progress_callback',\n",
       " 'stream_monostate',\n",
       " 'streaming_data',\n",
       " 'streams',\n",
       " 'thumbnail_url',\n",
       " 'title',\n",
       " 'use_oauth',\n",
       " 'vid_info',\n",
       " 'video_id',\n",
       " 'views',\n",
       " 'watch_html',\n",
       " 'watch_url']"
      ]
     },
     "execution_count": 7,
     "metadata": {},
     "output_type": "execute_result"
    }
   ],
   "source": [
    "dir(youtube_video)"
   ]
  },
  {
   "cell_type": "code",
   "execution_count": 8,
   "metadata": {},
   "outputs": [
    {
     "data": {
      "text/plain": [
       "20073"
      ]
     },
     "execution_count": 8,
     "metadata": {},
     "output_type": "execute_result"
    }
   ],
   "source": [
    "youtube_video.views"
   ]
  },
  {
   "cell_type": "code",
   "execution_count": 9,
   "metadata": {},
   "outputs": [
    {
     "name": "stdout",
     "output_type": "stream",
     "text": [
      "<Stream: itag=\"17\" mime_type=\"video/3gpp\" res=\"144p\" fps=\"8fps\" vcodec=\"mp4v.20.3\" acodec=\"mp4a.40.2\" progressive=\"True\" type=\"video\">\n",
      "<Stream: itag=\"18\" mime_type=\"video/mp4\" res=\"360p\" fps=\"25fps\" vcodec=\"avc1.42001E\" acodec=\"mp4a.40.2\" progressive=\"True\" type=\"video\">\n",
      "<Stream: itag=\"22\" mime_type=\"video/mp4\" res=\"720p\" fps=\"25fps\" vcodec=\"avc1.64001F\" acodec=\"mp4a.40.2\" progressive=\"True\" type=\"video\">\n",
      "<Stream: itag=\"137\" mime_type=\"video/mp4\" res=\"1080p\" fps=\"25fps\" vcodec=\"avc1.640028\" progressive=\"False\" type=\"video\">\n",
      "<Stream: itag=\"248\" mime_type=\"video/webm\" res=\"1080p\" fps=\"25fps\" vcodec=\"vp9\" progressive=\"False\" type=\"video\">\n",
      "<Stream: itag=\"136\" mime_type=\"video/mp4\" res=\"720p\" fps=\"25fps\" vcodec=\"avc1.4d401f\" progressive=\"False\" type=\"video\">\n",
      "<Stream: itag=\"247\" mime_type=\"video/webm\" res=\"720p\" fps=\"25fps\" vcodec=\"vp9\" progressive=\"False\" type=\"video\">\n",
      "<Stream: itag=\"135\" mime_type=\"video/mp4\" res=\"480p\" fps=\"25fps\" vcodec=\"avc1.4d401e\" progressive=\"False\" type=\"video\">\n",
      "<Stream: itag=\"244\" mime_type=\"video/webm\" res=\"480p\" fps=\"25fps\" vcodec=\"vp9\" progressive=\"False\" type=\"video\">\n",
      "<Stream: itag=\"134\" mime_type=\"video/mp4\" res=\"360p\" fps=\"25fps\" vcodec=\"avc1.4d401e\" progressive=\"False\" type=\"video\">\n",
      "<Stream: itag=\"243\" mime_type=\"video/webm\" res=\"360p\" fps=\"25fps\" vcodec=\"vp9\" progressive=\"False\" type=\"video\">\n",
      "<Stream: itag=\"133\" mime_type=\"video/mp4\" res=\"240p\" fps=\"25fps\" vcodec=\"avc1.4d4015\" progressive=\"False\" type=\"video\">\n",
      "<Stream: itag=\"242\" mime_type=\"video/webm\" res=\"240p\" fps=\"25fps\" vcodec=\"vp9\" progressive=\"False\" type=\"video\">\n",
      "<Stream: itag=\"160\" mime_type=\"video/mp4\" res=\"144p\" fps=\"25fps\" vcodec=\"avc1.4d400c\" progressive=\"False\" type=\"video\">\n",
      "<Stream: itag=\"278\" mime_type=\"video/webm\" res=\"144p\" fps=\"25fps\" vcodec=\"vp9\" progressive=\"False\" type=\"video\">\n",
      "<Stream: itag=\"139\" mime_type=\"audio/mp4\" abr=\"48kbps\" acodec=\"mp4a.40.5\" progressive=\"False\" type=\"audio\">\n",
      "<Stream: itag=\"140\" mime_type=\"audio/mp4\" abr=\"128kbps\" acodec=\"mp4a.40.2\" progressive=\"False\" type=\"audio\">\n",
      "<Stream: itag=\"249\" mime_type=\"audio/webm\" abr=\"50kbps\" acodec=\"opus\" progressive=\"False\" type=\"audio\">\n",
      "<Stream: itag=\"250\" mime_type=\"audio/webm\" abr=\"70kbps\" acodec=\"opus\" progressive=\"False\" type=\"audio\">\n",
      "<Stream: itag=\"251\" mime_type=\"audio/webm\" abr=\"160kbps\" acodec=\"opus\" progressive=\"False\" type=\"audio\">\n"
     ]
    }
   ],
   "source": [
    "for stream in youtube_video.streams:\n",
    "    print(stream)"
   ]
  },
  {
   "cell_type": "code",
   "execution_count": 10,
   "metadata": {},
   "outputs": [
    {
     "name": "stdout",
     "output_type": "stream",
     "text": [
      "<Stream: itag=\"139\" mime_type=\"audio/mp4\" abr=\"48kbps\" acodec=\"mp4a.40.5\" progressive=\"False\" type=\"audio\">\n",
      "<Stream: itag=\"140\" mime_type=\"audio/mp4\" abr=\"128kbps\" acodec=\"mp4a.40.2\" progressive=\"False\" type=\"audio\">\n",
      "<Stream: itag=\"249\" mime_type=\"audio/webm\" abr=\"50kbps\" acodec=\"opus\" progressive=\"False\" type=\"audio\">\n",
      "<Stream: itag=\"250\" mime_type=\"audio/webm\" abr=\"70kbps\" acodec=\"opus\" progressive=\"False\" type=\"audio\">\n",
      "<Stream: itag=\"251\" mime_type=\"audio/webm\" abr=\"160kbps\" acodec=\"opus\" progressive=\"False\" type=\"audio\">\n"
     ]
    }
   ],
   "source": [
    "streams = youtube_video.streams.filter(only_audio=True)\n",
    "for stream in streams:\n",
    "    print(stream)"
   ]
  },
  {
   "cell_type": "code",
   "execution_count": null,
   "metadata": {},
   "outputs": [],
   "source": []
  },
  {
   "cell_type": "code",
   "execution_count": 11,
   "metadata": {},
   "outputs": [
    {
     "data": {
      "text/plain": [
       "<Stream: itag=\"140\" mime_type=\"audio/mp4\" abr=\"128kbps\" acodec=\"mp4a.40.2\" progressive=\"False\" type=\"audio\">"
      ]
     },
     "execution_count": 11,
     "metadata": {},
     "output_type": "execute_result"
    }
   ],
   "source": [
    "stream = streams.get_by_itag(140)\n",
    "stream"
   ]
  },
  {
   "cell_type": "code",
   "execution_count": 12,
   "metadata": {},
   "outputs": [
    {
     "data": {
      "text/plain": [
       "'/Users/keenansamway/Documents/GitHub/South-Korean-Nuclear-Sentiment/content/sk-nuclear_anti_audio_2.mp4'"
      ]
     },
     "execution_count": 12,
     "metadata": {},
     "output_type": "execute_result"
    }
   ],
   "source": [
    "FILE_DIR = 'content/'\n",
    "stream.download(filename=os.path.join(FILE_DIR, 'sk-nuclear_anti_audio_2.mp4'))"
   ]
  },
  {
   "cell_type": "code",
   "execution_count": 13,
   "metadata": {},
   "outputs": [],
   "source": [
    "model = whisper.load_model('base')"
   ]
  },
  {
   "cell_type": "code",
   "execution_count": null,
   "metadata": {},
   "outputs": [],
   "source": [
    "import datetime\n",
    "# %%time\n",
    "t1 = datetime.datetime.now()\n",
    "\n",
    "output = model.transcribe(os.path.join(FILE_DIR, 'sk-nuclear_anti_audio_2.mp4'))\n",
    "\n",
    "t2 = datetime.datetime.now()\n",
    "\n",
    "print(f\"Elapsed time: {t2 - t1}\")"
   ]
  },
  {
   "attachments": {},
   "cell_type": "markdown",
   "metadata": {},
   "source": [
    "~48 min YouTube video, 48kbps\n",
    "- Base, M1 CPU (FP32): 04m 10-20s"
   ]
  },
  {
   "cell_type": "code",
   "execution_count": 59,
   "metadata": {},
   "outputs": [
    {
     "data": {
      "text/plain": [
       "\" This is South Korea's scenic southeastern region, a popular tourist destination, home to stretches of coastline and 18 nuclear reactors. So when a magnitude 5.4 earthquake forced more than a thousand people to evacuate their homes in November some wondered if those nuclear reactors are safe. Shin Yong-wai is so worried she's been protesting in the streets. I was so scared when the earthquake happened here I had evacuated from my building but when the Germans continued the thought of the nuclear power plants exploding haunted me. More reactors are on the way. During the election campaign President Moon Jae-in promised to halt their construction but he reversed that position after public consultations found the majority of people wanted the existing projects completed. The environmental organization Greenpeace wants safety re-examined. We saw the significant increase of the people who are concerned about the safety of nuclear reactors to tourist gate. The 2011 Fukushima disaster in Japan happened just across the sea. It's not hard for South Koreans to imagine the worst-case scenario but a tsunami triggered by a magnitude 9 earthquake caused that catastrophe and experts say that sort of event would be extremely unlikely here. In a statement Korea Hydro and Nuclear Power, the company that runs this plant says the newest reactors being built here are designed to withstand earthquakes 63 times more powerful than the 5.8 magnitude quake that hit the nearby city of Gyeongju in 2016. That was South Korea's strongest earthquake since records began in 1978. Locals are still rebuilding many replacing traditional ceramic roof tiles with more affordable and sturdy metal sheets. Even if future earthquakes damage homes again, nuclear power advocates say the plants are designed to contain any radiation leaks. The final physical barrier, the capsule containment, is strong enough to withstand any kind of significant earthquake. Jong-Yong-Hoon says nuclear power must be part of South Korea's energy supply. The government still wants to phase it out over time. In the meantime, the energy ministry has told South Koreans that close inspection of power plants revealed no damage from the latest earthquake. Kathy Novak, Al-Jazera, all-Sun South Korea.\""
      ]
     },
     "execution_count": 59,
     "metadata": {},
     "output_type": "execute_result"
    }
   ],
   "source": [
    "output['text']"
   ]
  },
  {
   "cell_type": "code",
   "execution_count": 60,
   "metadata": {},
   "outputs": [
    {
     "data": {
      "text/plain": [
       "{'id': 0,\n",
       " 'seek': 0,\n",
       " 'start': 0.0,\n",
       " 'end': 8.44,\n",
       " 'text': \" This is South Korea's scenic southeastern region, a popular tourist destination, home to stretches of coastline and\",\n",
       " 'tokens': [639,\n",
       "  307,\n",
       "  4242,\n",
       "  6307,\n",
       "  311,\n",
       "  4191,\n",
       "  299,\n",
       "  262,\n",
       "  18159,\n",
       "  32579,\n",
       "  4458,\n",
       "  11,\n",
       "  257,\n",
       "  3743,\n",
       "  19806,\n",
       "  12236,\n",
       "  11,\n",
       "  1280,\n",
       "  281,\n",
       "  29058,\n",
       "  295,\n",
       "  8684,\n",
       "  1889,\n",
       "  293],\n",
       " 'temperature': 0.0,\n",
       " 'avg_logprob': -0.32660856246948244,\n",
       " 'compression_ratio': 1.5321888412017168,\n",
       " 'no_speech_prob': 0.022328365594148636}"
      ]
     },
     "execution_count": 60,
     "metadata": {},
     "output_type": "execute_result"
    }
   ],
   "source": [
    "output['segments'][0]"
   ]
  },
  {
   "cell_type": "code",
   "execution_count": 61,
   "metadata": {},
   "outputs": [
    {
     "data": {
      "text/html": [
       "<div>\n",
       "<style scoped>\n",
       "    .dataframe tbody tr th:only-of-type {\n",
       "        vertical-align: middle;\n",
       "    }\n",
       "\n",
       "    .dataframe tbody tr th {\n",
       "        vertical-align: top;\n",
       "    }\n",
       "\n",
       "    .dataframe thead th {\n",
       "        text-align: right;\n",
       "    }\n",
       "</style>\n",
       "<table border=\"1\" class=\"dataframe\">\n",
       "  <thead>\n",
       "    <tr style=\"text-align: right;\">\n",
       "      <th></th>\n",
       "      <th>id</th>\n",
       "      <th>seek</th>\n",
       "      <th>start</th>\n",
       "      <th>end</th>\n",
       "      <th>text</th>\n",
       "      <th>tokens</th>\n",
       "      <th>temperature</th>\n",
       "      <th>avg_logprob</th>\n",
       "      <th>compression_ratio</th>\n",
       "      <th>no_speech_prob</th>\n",
       "    </tr>\n",
       "  </thead>\n",
       "  <tbody>\n",
       "    <tr>\n",
       "      <th>0</th>\n",
       "      <td>0</td>\n",
       "      <td>0</td>\n",
       "      <td>0.00</td>\n",
       "      <td>8.44</td>\n",
       "      <td>This is South Korea's scenic southeastern reg...</td>\n",
       "      <td>[639, 307, 4242, 6307, 311, 4191, 299, 262, 18...</td>\n",
       "      <td>0.0</td>\n",
       "      <td>-0.326609</td>\n",
       "      <td>1.532189</td>\n",
       "      <td>0.022328</td>\n",
       "    </tr>\n",
       "    <tr>\n",
       "      <th>1</th>\n",
       "      <td>1</td>\n",
       "      <td>0</td>\n",
       "      <td>9.12</td>\n",
       "      <td>17.44</td>\n",
       "      <td>18 nuclear reactors. So when a magnitude 5.4 ...</td>\n",
       "      <td>[2443, 8179, 41649, 13, 407, 562, 257, 15668, ...</td>\n",
       "      <td>0.0</td>\n",
       "      <td>-0.326609</td>\n",
       "      <td>1.532189</td>\n",
       "      <td>0.022328</td>\n",
       "    </tr>\n",
       "    <tr>\n",
       "      <th>2</th>\n",
       "      <td>2</td>\n",
       "      <td>1744</td>\n",
       "      <td>17.44</td>\n",
       "      <td>32.24</td>\n",
       "      <td>some wondered if those nuclear reactors are s...</td>\n",
       "      <td>[512, 17055, 498, 729, 8179, 41649, 366, 3273,...</td>\n",
       "      <td>0.0</td>\n",
       "      <td>-0.262921</td>\n",
       "      <td>1.587549</td>\n",
       "      <td>0.004481</td>\n",
       "    </tr>\n",
       "    <tr>\n",
       "      <th>3</th>\n",
       "      <td>3</td>\n",
       "      <td>1744</td>\n",
       "      <td>32.24</td>\n",
       "      <td>38.00</td>\n",
       "      <td>I had evacuated from my building but when the...</td>\n",
       "      <td>[286, 632, 20245, 27275, 490, 452, 2390, 457, ...</td>\n",
       "      <td>0.0</td>\n",
       "      <td>-0.262921</td>\n",
       "      <td>1.587549</td>\n",
       "      <td>0.004481</td>\n",
       "    </tr>\n",
       "    <tr>\n",
       "      <th>4</th>\n",
       "      <td>4</td>\n",
       "      <td>1744</td>\n",
       "      <td>39.76</td>\n",
       "      <td>46.40</td>\n",
       "      <td>More reactors are on the way. During the elec...</td>\n",
       "      <td>[5048, 41649, 366, 322, 264, 636, 13, 6842, 26...</td>\n",
       "      <td>0.0</td>\n",
       "      <td>-0.262921</td>\n",
       "      <td>1.587549</td>\n",
       "      <td>0.004481</td>\n",
       "    </tr>\n",
       "  </tbody>\n",
       "</table>\n",
       "</div>"
      ],
      "text/plain": [
       "   id  seek  start    end                                               text  \\\n",
       "0   0     0   0.00   8.44   This is South Korea's scenic southeastern reg...   \n",
       "1   1     0   9.12  17.44   18 nuclear reactors. So when a magnitude 5.4 ...   \n",
       "2   2  1744  17.44  32.24   some wondered if those nuclear reactors are s...   \n",
       "3   3  1744  32.24  38.00   I had evacuated from my building but when the...   \n",
       "4   4  1744  39.76  46.40   More reactors are on the way. During the elec...   \n",
       "\n",
       "                                              tokens  temperature  \\\n",
       "0  [639, 307, 4242, 6307, 311, 4191, 299, 262, 18...          0.0   \n",
       "1  [2443, 8179, 41649, 13, 407, 562, 257, 15668, ...          0.0   \n",
       "2  [512, 17055, 498, 729, 8179, 41649, 366, 3273,...          0.0   \n",
       "3  [286, 632, 20245, 27275, 490, 452, 2390, 457, ...          0.0   \n",
       "4  [5048, 41649, 366, 322, 264, 636, 13, 6842, 26...          0.0   \n",
       "\n",
       "   avg_logprob  compression_ratio  no_speech_prob  \n",
       "0    -0.326609           1.532189        0.022328  \n",
       "1    -0.326609           1.532189        0.022328  \n",
       "2    -0.262921           1.587549        0.004481  \n",
       "3    -0.262921           1.587549        0.004481  \n",
       "4    -0.262921           1.587549        0.004481  "
      ]
     },
     "execution_count": 61,
     "metadata": {},
     "output_type": "execute_result"
    }
   ],
   "source": [
    "video_df = pd.DataFrame.from_dict(output['segments'])\n",
    "video_df.head()"
   ]
  },
  {
   "cell_type": "code",
   "execution_count": 62,
   "metadata": {},
   "outputs": [
    {
     "data": {
      "text/html": [
       "<div>\n",
       "<style scoped>\n",
       "    .dataframe tbody tr th:only-of-type {\n",
       "        vertical-align: middle;\n",
       "    }\n",
       "\n",
       "    .dataframe tbody tr th {\n",
       "        vertical-align: top;\n",
       "    }\n",
       "\n",
       "    .dataframe thead th {\n",
       "        text-align: right;\n",
       "    }\n",
       "</style>\n",
       "<table border=\"1\" class=\"dataframe\">\n",
       "  <thead>\n",
       "    <tr style=\"text-align: right;\">\n",
       "      <th></th>\n",
       "      <th>start</th>\n",
       "      <th>end</th>\n",
       "      <th>text</th>\n",
       "    </tr>\n",
       "  </thead>\n",
       "  <tbody>\n",
       "    <tr>\n",
       "      <th>0</th>\n",
       "      <td>0</td>\n",
       "      <td>8</td>\n",
       "      <td>This is South Korea's scenic southeastern reg...</td>\n",
       "    </tr>\n",
       "    <tr>\n",
       "      <th>1</th>\n",
       "      <td>9</td>\n",
       "      <td>17</td>\n",
       "      <td>18 nuclear reactors. So when a magnitude 5.4 ...</td>\n",
       "    </tr>\n",
       "    <tr>\n",
       "      <th>2</th>\n",
       "      <td>17</td>\n",
       "      <td>32</td>\n",
       "      <td>some wondered if those nuclear reactors are s...</td>\n",
       "    </tr>\n",
       "    <tr>\n",
       "      <th>3</th>\n",
       "      <td>32</td>\n",
       "      <td>38</td>\n",
       "      <td>I had evacuated from my building but when the...</td>\n",
       "    </tr>\n",
       "    <tr>\n",
       "      <th>4</th>\n",
       "      <td>40</td>\n",
       "      <td>46</td>\n",
       "      <td>More reactors are on the way. During the elec...</td>\n",
       "    </tr>\n",
       "  </tbody>\n",
       "</table>\n",
       "</div>"
      ],
      "text/plain": [
       "   start  end                                               text\n",
       "0      0    8   This is South Korea's scenic southeastern reg...\n",
       "1      9   17   18 nuclear reactors. So when a magnitude 5.4 ...\n",
       "2     17   32   some wondered if those nuclear reactors are s...\n",
       "3     32   38   I had evacuated from my building but when the...\n",
       "4     40   46   More reactors are on the way. During the elec..."
      ]
     },
     "execution_count": 62,
     "metadata": {},
     "output_type": "execute_result"
    }
   ],
   "source": [
    "video_df['start'] = video_df['start'].round(0).astype(int)\n",
    "video_df['end'] = video_df['end'].round(0).astype(int)\n",
    "video_df = video_df[['start', 'end', 'text']]\n",
    "video_df.head()"
   ]
  },
  {
   "cell_type": "code",
   "execution_count": 63,
   "metadata": {},
   "outputs": [],
   "source": [
    "FILE_DIR = 'content/'\n",
    "video_df.to_csv(os.path.join(FILE_DIR, 'sk-nuclear_anti_audio_2.csv'), index=False)"
   ]
  },
  {
   "cell_type": "code",
   "execution_count": null,
   "metadata": {},
   "outputs": [],
   "source": []
  }
 ],
 "metadata": {
  "kernelspec": {
   "display_name": "sk-nuclear",
   "language": "python",
   "name": "python3"
  },
  "language_info": {
   "codemirror_mode": {
    "name": "ipython",
    "version": 3
   },
   "file_extension": ".py",
   "mimetype": "text/x-python",
   "name": "python",
   "nbconvert_exporter": "python",
   "pygments_lexer": "ipython3",
   "version": "3.9.16"
  },
  "orig_nbformat": 4,
  "vscode": {
   "interpreter": {
    "hash": "3120d9f87eabf5535f44bfda2bf17334ee7ee4298f68d473c9683e2ad61a73ab"
   }
  }
 },
 "nbformat": 4,
 "nbformat_minor": 2
}
